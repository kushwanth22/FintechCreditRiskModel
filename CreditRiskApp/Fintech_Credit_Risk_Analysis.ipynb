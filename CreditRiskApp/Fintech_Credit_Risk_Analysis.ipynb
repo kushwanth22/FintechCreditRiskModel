{
 "cells": [
  {
   "cell_type": "markdown",
   "metadata": {},
   "source": [
    "### NOTE BOOK COVERS\n",
    "1. Understand the requirement/Problem statement\n",
    "2. Preprocessing\n",
    "3. EDA\n",
    "4. Imputation\n",
    "5. Standardization\n",
    "6. Encodings\n",
    "7. Pipeline\n",
    "8. Models\n",
    "9. Finetune \n",
    "10. cross validation\n",
    "11. Grids\n",
    "12. Pickling\n",
    "13. stacking\n",
    "14. voting\n",
    "15. streamlit Create UI and link \n",
    "16. Deployment"
   ]
  },
  {
   "cell_type": "markdown",
   "metadata": {},
   "source": [
    "### 1. Understand the requirement/Problem statement"
   ]
  },
  {
   "cell_type": "markdown",
   "metadata": {},
   "source": [
    "Credit Risk in Fintech Industry. You are required to build and train a model that identifies Fully Paid and Charged-off loans from the loan dataset.\n",
    "Task:\n",
    "Your task is to build this model based on the details in this document and submit it. \n",
    "\n",
    "\n",
    "Consider these Factors before building the Models:\n",
    "1.\tUse the specific source or dataset for assess credit risk shared with you\n",
    "2.\tWhat is your intended data split ratio for training, validation, and test sets for the loan dataset? How do you plan to ensure randomness in this split?\n",
    "3.\tDo you plan to explore the importance of these components further?\n",
    "4.\tDo you anticipate class imbalance in the 'loan_status' feature, where \n",
    "Fully paid: Applicant has fully paid the loan (the principal and the interest rate)\n",
    "Charged-off: Applicant has not paid the installments in due time for a long period of time, i.e. Client has defaulted on the loan\n",
    "If so, how will you address this imbalance?\n",
    "5.\tWill you normalize the features? If yes, what normalization techniques do you have in mind?\n",
    "6.\tDo you intend to perform data preprocessing tasks such as outlier detection, missing value handling, or feature selection before training your model."
   ]
  },
  {
   "cell_type": "markdown",
   "metadata": {},
   "source": [
    "### 2. Preprocessing"
   ]
  },
  {
   "cell_type": "code",
   "execution_count": 1,
   "metadata": {},
   "outputs": [],
   "source": [
    "import pandas as pd\n",
    "import numpy as np\n",
    "import seaborn as sns\n",
    "import matplotlib.pyplot as plt\n",
    "\n",
    "from sklearn.impute import SimpleImputer\n",
    "from sklearn.preprocessing import OneHotEncoder,LabelEncoder\n",
    "from sklearn.preprocessing import MinMaxScaler\n",
    "\n",
    "from sklearn.pipeline import Pipeline\n",
    "from sklearn.compose import ColumnTransformer\n",
    "from sklearn.base import BaseEstimator, TransformerMixin\n",
    "from sklearn.linear_model import LogisticRegression"
   ]
  },
  {
   "cell_type": "code",
   "execution_count": 2,
   "metadata": {},
   "outputs": [],
   "source": [
    "data = pd.read_csv(\"../data/train_loan_data.csv\")"
   ]
  },
  {
   "cell_type": "code",
   "execution_count": 3,
   "metadata": {},
   "outputs": [
    {
     "data": {
      "text/html": [
       "<div>\n",
       "<style scoped>\n",
       "    .dataframe tbody tr th:only-of-type {\n",
       "        vertical-align: middle;\n",
       "    }\n",
       "\n",
       "    .dataframe tbody tr th {\n",
       "        vertical-align: top;\n",
       "    }\n",
       "\n",
       "    .dataframe thead th {\n",
       "        text-align: right;\n",
       "    }\n",
       "</style>\n",
       "<table border=\"1\" class=\"dataframe\">\n",
       "  <thead>\n",
       "    <tr style=\"text-align: right;\">\n",
       "      <th></th>\n",
       "      <th>addr_state</th>\n",
       "      <th>annual_inc</th>\n",
       "      <th>earliest_cr_line</th>\n",
       "      <th>emp_length</th>\n",
       "      <th>emp_title</th>\n",
       "      <th>fico_range_high</th>\n",
       "      <th>fico_range_low</th>\n",
       "      <th>grade</th>\n",
       "      <th>home_ownership</th>\n",
       "      <th>application_type</th>\n",
       "      <th>...</th>\n",
       "      <th>pub_rec_bankruptcies</th>\n",
       "      <th>purpose</th>\n",
       "      <th>revol_bal</th>\n",
       "      <th>revol_util</th>\n",
       "      <th>sub_grade</th>\n",
       "      <th>term</th>\n",
       "      <th>title</th>\n",
       "      <th>total_acc</th>\n",
       "      <th>verification_status</th>\n",
       "      <th>loan_status</th>\n",
       "    </tr>\n",
       "  </thead>\n",
       "  <tbody>\n",
       "    <tr>\n",
       "      <th>0</th>\n",
       "      <td>CO</td>\n",
       "      <td>85000.0</td>\n",
       "      <td>Jul-1997</td>\n",
       "      <td>10+ years</td>\n",
       "      <td>Deputy</td>\n",
       "      <td>744.0</td>\n",
       "      <td>740.0</td>\n",
       "      <td>E</td>\n",
       "      <td>MORTGAGE</td>\n",
       "      <td>Individual</td>\n",
       "      <td>...</td>\n",
       "      <td>0.0</td>\n",
       "      <td>debt_consolidation</td>\n",
       "      <td>5338.0</td>\n",
       "      <td>93.6</td>\n",
       "      <td>E1</td>\n",
       "      <td>60 months</td>\n",
       "      <td>Debt consolidation</td>\n",
       "      <td>8.0</td>\n",
       "      <td>Source Verified</td>\n",
       "      <td>Charged Off</td>\n",
       "    </tr>\n",
       "    <tr>\n",
       "      <th>1</th>\n",
       "      <td>CA</td>\n",
       "      <td>40000.0</td>\n",
       "      <td>Apr-1987</td>\n",
       "      <td>10+ years</td>\n",
       "      <td>Department of Veterans Affairs</td>\n",
       "      <td>724.0</td>\n",
       "      <td>720.0</td>\n",
       "      <td>B</td>\n",
       "      <td>RENT</td>\n",
       "      <td>Individual</td>\n",
       "      <td>...</td>\n",
       "      <td>0.0</td>\n",
       "      <td>debt_consolidation</td>\n",
       "      <td>19944.0</td>\n",
       "      <td>60.3</td>\n",
       "      <td>B1</td>\n",
       "      <td>36 months</td>\n",
       "      <td>Credit Loan</td>\n",
       "      <td>12.0</td>\n",
       "      <td>Verified</td>\n",
       "      <td>Fully Paid</td>\n",
       "    </tr>\n",
       "    <tr>\n",
       "      <th>2</th>\n",
       "      <td>FL</td>\n",
       "      <td>60000.0</td>\n",
       "      <td>Aug-2007</td>\n",
       "      <td>10+ years</td>\n",
       "      <td>Marble polishing</td>\n",
       "      <td>679.0</td>\n",
       "      <td>675.0</td>\n",
       "      <td>B</td>\n",
       "      <td>MORTGAGE</td>\n",
       "      <td>Individual</td>\n",
       "      <td>...</td>\n",
       "      <td>0.0</td>\n",
       "      <td>debt_consolidation</td>\n",
       "      <td>23199.0</td>\n",
       "      <td>88.5</td>\n",
       "      <td>B5</td>\n",
       "      <td>36 months</td>\n",
       "      <td>Debt consolidation</td>\n",
       "      <td>16.0</td>\n",
       "      <td>Source Verified</td>\n",
       "      <td>Fully Paid</td>\n",
       "    </tr>\n",
       "    <tr>\n",
       "      <th>3</th>\n",
       "      <td>IL</td>\n",
       "      <td>100742.0</td>\n",
       "      <td>Sep-1980</td>\n",
       "      <td>10+ years</td>\n",
       "      <td>printer</td>\n",
       "      <td>664.0</td>\n",
       "      <td>660.0</td>\n",
       "      <td>B</td>\n",
       "      <td>MORTGAGE</td>\n",
       "      <td>Individual</td>\n",
       "      <td>...</td>\n",
       "      <td>0.0</td>\n",
       "      <td>debt_consolidation</td>\n",
       "      <td>18425.0</td>\n",
       "      <td>69.0</td>\n",
       "      <td>B2</td>\n",
       "      <td>36 months</td>\n",
       "      <td>Debt consolidation</td>\n",
       "      <td>19.0</td>\n",
       "      <td>Source Verified</td>\n",
       "      <td>Fully Paid</td>\n",
       "    </tr>\n",
       "    <tr>\n",
       "      <th>4</th>\n",
       "      <td>MD</td>\n",
       "      <td>80000.0</td>\n",
       "      <td>Jul-1999</td>\n",
       "      <td>10+ years</td>\n",
       "      <td>Southern Mgmt</td>\n",
       "      <td>669.0</td>\n",
       "      <td>665.0</td>\n",
       "      <td>F</td>\n",
       "      <td>RENT</td>\n",
       "      <td>Individual</td>\n",
       "      <td>...</td>\n",
       "      <td>0.0</td>\n",
       "      <td>debt_consolidation</td>\n",
       "      <td>34370.0</td>\n",
       "      <td>90.0</td>\n",
       "      <td>F5</td>\n",
       "      <td>60 months</td>\n",
       "      <td>Debt Connsolidation</td>\n",
       "      <td>59.0</td>\n",
       "      <td>Verified</td>\n",
       "      <td>Fully Paid</td>\n",
       "    </tr>\n",
       "    <tr>\n",
       "      <th>...</th>\n",
       "      <td>...</td>\n",
       "      <td>...</td>\n",
       "      <td>...</td>\n",
       "      <td>...</td>\n",
       "      <td>...</td>\n",
       "      <td>...</td>\n",
       "      <td>...</td>\n",
       "      <td>...</td>\n",
       "      <td>...</td>\n",
       "      <td>...</td>\n",
       "      <td>...</td>\n",
       "      <td>...</td>\n",
       "      <td>...</td>\n",
       "      <td>...</td>\n",
       "      <td>...</td>\n",
       "      <td>...</td>\n",
       "      <td>...</td>\n",
       "      <td>...</td>\n",
       "      <td>...</td>\n",
       "      <td>...</td>\n",
       "      <td>...</td>\n",
       "    </tr>\n",
       "    <tr>\n",
       "      <th>79995</th>\n",
       "      <td>SC</td>\n",
       "      <td>81000.0</td>\n",
       "      <td>Feb-2000</td>\n",
       "      <td>10+ years</td>\n",
       "      <td>Sports Group Manager</td>\n",
       "      <td>664.0</td>\n",
       "      <td>660.0</td>\n",
       "      <td>G</td>\n",
       "      <td>MORTGAGE</td>\n",
       "      <td>Individual</td>\n",
       "      <td>...</td>\n",
       "      <td>0.0</td>\n",
       "      <td>debt_consolidation</td>\n",
       "      <td>20201.0</td>\n",
       "      <td>93.5</td>\n",
       "      <td>G3</td>\n",
       "      <td>60 months</td>\n",
       "      <td>Debt consolidation</td>\n",
       "      <td>42.0</td>\n",
       "      <td>Verified</td>\n",
       "      <td>Charged Off</td>\n",
       "    </tr>\n",
       "    <tr>\n",
       "      <th>79996</th>\n",
       "      <td>NH</td>\n",
       "      <td>45000.0</td>\n",
       "      <td>Aug-1995</td>\n",
       "      <td>10+ years</td>\n",
       "      <td>Web Designer</td>\n",
       "      <td>684.0</td>\n",
       "      <td>680.0</td>\n",
       "      <td>C</td>\n",
       "      <td>MORTGAGE</td>\n",
       "      <td>Individual</td>\n",
       "      <td>...</td>\n",
       "      <td>0.0</td>\n",
       "      <td>debt_consolidation</td>\n",
       "      <td>6145.0</td>\n",
       "      <td>56.9</td>\n",
       "      <td>C1</td>\n",
       "      <td>36 months</td>\n",
       "      <td>Debt consolidation</td>\n",
       "      <td>14.0</td>\n",
       "      <td>Not Verified</td>\n",
       "      <td>Fully Paid</td>\n",
       "    </tr>\n",
       "    <tr>\n",
       "      <th>79997</th>\n",
       "      <td>NY</td>\n",
       "      <td>90000.0</td>\n",
       "      <td>Apr-2005</td>\n",
       "      <td>&lt; 1 year</td>\n",
       "      <td>Program Officer</td>\n",
       "      <td>724.0</td>\n",
       "      <td>720.0</td>\n",
       "      <td>B</td>\n",
       "      <td>OWN</td>\n",
       "      <td>Individual</td>\n",
       "      <td>...</td>\n",
       "      <td>0.0</td>\n",
       "      <td>debt_consolidation</td>\n",
       "      <td>3910.0</td>\n",
       "      <td>25.6</td>\n",
       "      <td>B4</td>\n",
       "      <td>36 months</td>\n",
       "      <td>Debt consolidation</td>\n",
       "      <td>26.0</td>\n",
       "      <td>Source Verified</td>\n",
       "      <td>Fully Paid</td>\n",
       "    </tr>\n",
       "    <tr>\n",
       "      <th>79998</th>\n",
       "      <td>TX</td>\n",
       "      <td>94000.0</td>\n",
       "      <td>Apr-1992</td>\n",
       "      <td>3 years</td>\n",
       "      <td>Sr. Business Analyst</td>\n",
       "      <td>669.0</td>\n",
       "      <td>665.0</td>\n",
       "      <td>D</td>\n",
       "      <td>MORTGAGE</td>\n",
       "      <td>Individual</td>\n",
       "      <td>...</td>\n",
       "      <td>1.0</td>\n",
       "      <td>credit_card</td>\n",
       "      <td>11897.0</td>\n",
       "      <td>49.4</td>\n",
       "      <td>D5</td>\n",
       "      <td>60 months</td>\n",
       "      <td>Credit card refinancing</td>\n",
       "      <td>48.0</td>\n",
       "      <td>Source Verified</td>\n",
       "      <td>Fully Paid</td>\n",
       "    </tr>\n",
       "    <tr>\n",
       "      <th>79999</th>\n",
       "      <td>NY</td>\n",
       "      <td>1100000.0</td>\n",
       "      <td>Jun-1999</td>\n",
       "      <td>2 years</td>\n",
       "      <td>Managing Director</td>\n",
       "      <td>664.0</td>\n",
       "      <td>660.0</td>\n",
       "      <td>B</td>\n",
       "      <td>MORTGAGE</td>\n",
       "      <td>Individual</td>\n",
       "      <td>...</td>\n",
       "      <td>0.0</td>\n",
       "      <td>debt_consolidation</td>\n",
       "      <td>586259.0</td>\n",
       "      <td>96.7</td>\n",
       "      <td>B4</td>\n",
       "      <td>36 months</td>\n",
       "      <td>Debt consolidation</td>\n",
       "      <td>32.0</td>\n",
       "      <td>Source Verified</td>\n",
       "      <td>Fully Paid</td>\n",
       "    </tr>\n",
       "  </tbody>\n",
       "</table>\n",
       "<p>80000 rows × 28 columns</p>\n",
       "</div>"
      ],
      "text/plain": [
       "      addr_state  annual_inc earliest_cr_line emp_length  \\\n",
       "0             CO     85000.0         Jul-1997  10+ years   \n",
       "1             CA     40000.0         Apr-1987  10+ years   \n",
       "2             FL     60000.0         Aug-2007  10+ years   \n",
       "3             IL    100742.0         Sep-1980  10+ years   \n",
       "4             MD     80000.0         Jul-1999  10+ years   \n",
       "...          ...         ...              ...        ...   \n",
       "79995         SC     81000.0         Feb-2000  10+ years   \n",
       "79996         NH     45000.0         Aug-1995  10+ years   \n",
       "79997         NY     90000.0         Apr-2005   < 1 year   \n",
       "79998         TX     94000.0         Apr-1992    3 years   \n",
       "79999         NY   1100000.0         Jun-1999    2 years   \n",
       "\n",
       "                            emp_title  fico_range_high  fico_range_low grade  \\\n",
       "0                              Deputy            744.0           740.0     E   \n",
       "1      Department of Veterans Affairs            724.0           720.0     B   \n",
       "2                    Marble polishing            679.0           675.0     B   \n",
       "3                             printer            664.0           660.0     B   \n",
       "4                       Southern Mgmt            669.0           665.0     F   \n",
       "...                               ...              ...             ...   ...   \n",
       "79995            Sports Group Manager            664.0           660.0     G   \n",
       "79996                    Web Designer            684.0           680.0     C   \n",
       "79997                 Program Officer            724.0           720.0     B   \n",
       "79998            Sr. Business Analyst            669.0           665.0     D   \n",
       "79999               Managing Director            664.0           660.0     B   \n",
       "\n",
       "      home_ownership application_type  ... pub_rec_bankruptcies  \\\n",
       "0           MORTGAGE       Individual  ...                  0.0   \n",
       "1               RENT       Individual  ...                  0.0   \n",
       "2           MORTGAGE       Individual  ...                  0.0   \n",
       "3           MORTGAGE       Individual  ...                  0.0   \n",
       "4               RENT       Individual  ...                  0.0   \n",
       "...              ...              ...  ...                  ...   \n",
       "79995       MORTGAGE       Individual  ...                  0.0   \n",
       "79996       MORTGAGE       Individual  ...                  0.0   \n",
       "79997            OWN       Individual  ...                  0.0   \n",
       "79998       MORTGAGE       Individual  ...                  1.0   \n",
       "79999       MORTGAGE       Individual  ...                  0.0   \n",
       "\n",
       "                  purpose  revol_bal  revol_util  sub_grade        term  \\\n",
       "0      debt_consolidation     5338.0        93.6         E1   60 months   \n",
       "1      debt_consolidation    19944.0        60.3         B1   36 months   \n",
       "2      debt_consolidation    23199.0        88.5         B5   36 months   \n",
       "3      debt_consolidation    18425.0        69.0         B2   36 months   \n",
       "4      debt_consolidation    34370.0        90.0         F5   60 months   \n",
       "...                   ...        ...         ...        ...         ...   \n",
       "79995  debt_consolidation    20201.0        93.5         G3   60 months   \n",
       "79996  debt_consolidation     6145.0        56.9         C1   36 months   \n",
       "79997  debt_consolidation     3910.0        25.6         B4   36 months   \n",
       "79998         credit_card    11897.0        49.4         D5   60 months   \n",
       "79999  debt_consolidation   586259.0        96.7         B4   36 months   \n",
       "\n",
       "                         title  total_acc  verification_status  loan_status  \n",
       "0           Debt consolidation        8.0      Source Verified  Charged Off  \n",
       "1                  Credit Loan       12.0             Verified   Fully Paid  \n",
       "2           Debt consolidation       16.0      Source Verified   Fully Paid  \n",
       "3           Debt consolidation       19.0      Source Verified   Fully Paid  \n",
       "4          Debt Connsolidation       59.0             Verified   Fully Paid  \n",
       "...                        ...        ...                  ...          ...  \n",
       "79995       Debt consolidation       42.0             Verified  Charged Off  \n",
       "79996       Debt consolidation       14.0         Not Verified   Fully Paid  \n",
       "79997       Debt consolidation       26.0      Source Verified   Fully Paid  \n",
       "79998  Credit card refinancing       48.0      Source Verified   Fully Paid  \n",
       "79999       Debt consolidation       32.0      Source Verified   Fully Paid  \n",
       "\n",
       "[80000 rows x 28 columns]"
      ]
     },
     "execution_count": 3,
     "metadata": {},
     "output_type": "execute_result"
    }
   ],
   "source": [
    "data # to see sample data"
   ]
  },
  {
   "cell_type": "code",
   "execution_count": 4,
   "metadata": {},
   "outputs": [
    {
     "name": "stdout",
     "output_type": "stream",
     "text": [
      "<class 'pandas.core.frame.DataFrame'>\n",
      "RangeIndex: 80000 entries, 0 to 79999\n",
      "Data columns (total 28 columns):\n",
      " #   Column                Non-Null Count  Dtype  \n",
      "---  ------                --------------  -----  \n",
      " 0   addr_state            80000 non-null  object \n",
      " 1   annual_inc            80000 non-null  float64\n",
      " 2   earliest_cr_line      80000 non-null  object \n",
      " 3   emp_length            75412 non-null  object \n",
      " 4   emp_title             74982 non-null  object \n",
      " 5   fico_range_high       80000 non-null  float64\n",
      " 6   fico_range_low        80000 non-null  float64\n",
      " 7   grade                 80000 non-null  object \n",
      " 8   home_ownership        80000 non-null  object \n",
      " 9   application_type      80000 non-null  object \n",
      " 10  initial_list_status   80000 non-null  object \n",
      " 11  int_rate              80000 non-null  float64\n",
      " 12  loan_amnt             80000 non-null  float64\n",
      " 13  num_actv_bc_tl        76052 non-null  float64\n",
      " 14  mort_acc              77229 non-null  float64\n",
      " 15  tot_cur_bal           76052 non-null  float64\n",
      " 16  open_acc              80000 non-null  float64\n",
      " 17  pub_rec               80000 non-null  float64\n",
      " 18  pub_rec_bankruptcies  79969 non-null  float64\n",
      " 19  purpose               80000 non-null  object \n",
      " 20  revol_bal             80000 non-null  float64\n",
      " 21  revol_util            79947 non-null  float64\n",
      " 22  sub_grade             80000 non-null  object \n",
      " 23  term                  80000 non-null  object \n",
      " 24  title                 79030 non-null  object \n",
      " 25  total_acc             80000 non-null  float64\n",
      " 26  verification_status   80000 non-null  object \n",
      " 27  loan_status           80000 non-null  object \n",
      "dtypes: float64(14), object(14)\n",
      "memory usage: 17.1+ MB\n"
     ]
    }
   ],
   "source": [
    "data.info() # to view entire column info of data"
   ]
  },
  {
   "cell_type": "code",
   "execution_count": 5,
   "metadata": {},
   "outputs": [
    {
     "data": {
      "text/html": [
       "<div>\n",
       "<style scoped>\n",
       "    .dataframe tbody tr th:only-of-type {\n",
       "        vertical-align: middle;\n",
       "    }\n",
       "\n",
       "    .dataframe tbody tr th {\n",
       "        vertical-align: top;\n",
       "    }\n",
       "\n",
       "    .dataframe thead th {\n",
       "        text-align: right;\n",
       "    }\n",
       "</style>\n",
       "<table border=\"1\" class=\"dataframe\">\n",
       "  <thead>\n",
       "    <tr style=\"text-align: right;\">\n",
       "      <th></th>\n",
       "      <th>annual_inc</th>\n",
       "      <th>fico_range_high</th>\n",
       "      <th>fico_range_low</th>\n",
       "      <th>int_rate</th>\n",
       "      <th>loan_amnt</th>\n",
       "      <th>num_actv_bc_tl</th>\n",
       "      <th>mort_acc</th>\n",
       "      <th>tot_cur_bal</th>\n",
       "      <th>open_acc</th>\n",
       "      <th>pub_rec</th>\n",
       "      <th>pub_rec_bankruptcies</th>\n",
       "      <th>revol_bal</th>\n",
       "      <th>revol_util</th>\n",
       "      <th>total_acc</th>\n",
       "    </tr>\n",
       "  </thead>\n",
       "  <tbody>\n",
       "    <tr>\n",
       "      <th>count</th>\n",
       "      <td>8.000000e+04</td>\n",
       "      <td>80000.000000</td>\n",
       "      <td>80000.000000</td>\n",
       "      <td>80000.000000</td>\n",
       "      <td>80000.000000</td>\n",
       "      <td>76052.000000</td>\n",
       "      <td>77229.000000</td>\n",
       "      <td>7.605200e+04</td>\n",
       "      <td>80000.000000</td>\n",
       "      <td>80000.000000</td>\n",
       "      <td>79969.000000</td>\n",
       "      <td>8.000000e+04</td>\n",
       "      <td>79947.000000</td>\n",
       "      <td>80000.000000</td>\n",
       "    </tr>\n",
       "    <tr>\n",
       "      <th>mean</th>\n",
       "      <td>7.604614e+04</td>\n",
       "      <td>699.987975</td>\n",
       "      <td>695.987813</td>\n",
       "      <td>13.232898</td>\n",
       "      <td>14403.867813</td>\n",
       "      <td>3.633790</td>\n",
       "      <td>1.674759</td>\n",
       "      <td>1.415864e+05</td>\n",
       "      <td>11.605675</td>\n",
       "      <td>0.216675</td>\n",
       "      <td>0.137103</td>\n",
       "      <td>1.628934e+04</td>\n",
       "      <td>51.899142</td>\n",
       "      <td>25.036875</td>\n",
       "    </tr>\n",
       "    <tr>\n",
       "      <th>std</th>\n",
       "      <td>6.902006e+04</td>\n",
       "      <td>31.734840</td>\n",
       "      <td>31.734075</td>\n",
       "      <td>4.771705</td>\n",
       "      <td>8703.826298</td>\n",
       "      <td>2.262505</td>\n",
       "      <td>2.005104</td>\n",
       "      <td>1.593714e+05</td>\n",
       "      <td>5.483362</td>\n",
       "      <td>0.579854</td>\n",
       "      <td>0.383202</td>\n",
       "      <td>2.264915e+04</td>\n",
       "      <td>24.504836</td>\n",
       "      <td>12.009194</td>\n",
       "    </tr>\n",
       "    <tr>\n",
       "      <th>min</th>\n",
       "      <td>0.000000e+00</td>\n",
       "      <td>664.000000</td>\n",
       "      <td>660.000000</td>\n",
       "      <td>5.310000</td>\n",
       "      <td>750.000000</td>\n",
       "      <td>0.000000</td>\n",
       "      <td>0.000000</td>\n",
       "      <td>0.000000e+00</td>\n",
       "      <td>1.000000</td>\n",
       "      <td>0.000000</td>\n",
       "      <td>0.000000</td>\n",
       "      <td>0.000000e+00</td>\n",
       "      <td>0.000000</td>\n",
       "      <td>2.000000</td>\n",
       "    </tr>\n",
       "    <tr>\n",
       "      <th>25%</th>\n",
       "      <td>4.600000e+04</td>\n",
       "      <td>674.000000</td>\n",
       "      <td>670.000000</td>\n",
       "      <td>9.750000</td>\n",
       "      <td>7925.000000</td>\n",
       "      <td>2.000000</td>\n",
       "      <td>0.000000</td>\n",
       "      <td>2.964200e+04</td>\n",
       "      <td>8.000000</td>\n",
       "      <td>0.000000</td>\n",
       "      <td>0.000000</td>\n",
       "      <td>5.965750e+03</td>\n",
       "      <td>33.500000</td>\n",
       "      <td>16.000000</td>\n",
       "    </tr>\n",
       "    <tr>\n",
       "      <th>50%</th>\n",
       "      <td>6.500000e+04</td>\n",
       "      <td>694.000000</td>\n",
       "      <td>690.000000</td>\n",
       "      <td>12.740000</td>\n",
       "      <td>12000.000000</td>\n",
       "      <td>3.000000</td>\n",
       "      <td>1.000000</td>\n",
       "      <td>8.100050e+04</td>\n",
       "      <td>11.000000</td>\n",
       "      <td>0.000000</td>\n",
       "      <td>0.000000</td>\n",
       "      <td>1.111100e+04</td>\n",
       "      <td>52.200000</td>\n",
       "      <td>23.000000</td>\n",
       "    </tr>\n",
       "    <tr>\n",
       "      <th>75%</th>\n",
       "      <td>9.000000e+04</td>\n",
       "      <td>714.000000</td>\n",
       "      <td>710.000000</td>\n",
       "      <td>15.990000</td>\n",
       "      <td>20000.000000</td>\n",
       "      <td>5.000000</td>\n",
       "      <td>3.000000</td>\n",
       "      <td>2.110272e+05</td>\n",
       "      <td>14.000000</td>\n",
       "      <td>0.000000</td>\n",
       "      <td>0.000000</td>\n",
       "      <td>1.963500e+04</td>\n",
       "      <td>70.800000</td>\n",
       "      <td>32.000000</td>\n",
       "    </tr>\n",
       "    <tr>\n",
       "      <th>max</th>\n",
       "      <td>7.141778e+06</td>\n",
       "      <td>850.000000</td>\n",
       "      <td>845.000000</td>\n",
       "      <td>30.990000</td>\n",
       "      <td>40000.000000</td>\n",
       "      <td>32.000000</td>\n",
       "      <td>32.000000</td>\n",
       "      <td>5.172185e+06</td>\n",
       "      <td>80.000000</td>\n",
       "      <td>24.000000</td>\n",
       "      <td>7.000000</td>\n",
       "      <td>1.023940e+06</td>\n",
       "      <td>152.600000</td>\n",
       "      <td>162.000000</td>\n",
       "    </tr>\n",
       "  </tbody>\n",
       "</table>\n",
       "</div>"
      ],
      "text/plain": [
       "         annual_inc  fico_range_high  fico_range_low      int_rate  \\\n",
       "count  8.000000e+04     80000.000000    80000.000000  80000.000000   \n",
       "mean   7.604614e+04       699.987975      695.987813     13.232898   \n",
       "std    6.902006e+04        31.734840       31.734075      4.771705   \n",
       "min    0.000000e+00       664.000000      660.000000      5.310000   \n",
       "25%    4.600000e+04       674.000000      670.000000      9.750000   \n",
       "50%    6.500000e+04       694.000000      690.000000     12.740000   \n",
       "75%    9.000000e+04       714.000000      710.000000     15.990000   \n",
       "max    7.141778e+06       850.000000      845.000000     30.990000   \n",
       "\n",
       "          loan_amnt  num_actv_bc_tl      mort_acc   tot_cur_bal      open_acc  \\\n",
       "count  80000.000000    76052.000000  77229.000000  7.605200e+04  80000.000000   \n",
       "mean   14403.867813        3.633790      1.674759  1.415864e+05     11.605675   \n",
       "std     8703.826298        2.262505      2.005104  1.593714e+05      5.483362   \n",
       "min      750.000000        0.000000      0.000000  0.000000e+00      1.000000   \n",
       "25%     7925.000000        2.000000      0.000000  2.964200e+04      8.000000   \n",
       "50%    12000.000000        3.000000      1.000000  8.100050e+04     11.000000   \n",
       "75%    20000.000000        5.000000      3.000000  2.110272e+05     14.000000   \n",
       "max    40000.000000       32.000000     32.000000  5.172185e+06     80.000000   \n",
       "\n",
       "            pub_rec  pub_rec_bankruptcies     revol_bal    revol_util  \\\n",
       "count  80000.000000          79969.000000  8.000000e+04  79947.000000   \n",
       "mean       0.216675              0.137103  1.628934e+04     51.899142   \n",
       "std        0.579854              0.383202  2.264915e+04     24.504836   \n",
       "min        0.000000              0.000000  0.000000e+00      0.000000   \n",
       "25%        0.000000              0.000000  5.965750e+03     33.500000   \n",
       "50%        0.000000              0.000000  1.111100e+04     52.200000   \n",
       "75%        0.000000              0.000000  1.963500e+04     70.800000   \n",
       "max       24.000000              7.000000  1.023940e+06    152.600000   \n",
       "\n",
       "          total_acc  \n",
       "count  80000.000000  \n",
       "mean      25.036875  \n",
       "std       12.009194  \n",
       "min        2.000000  \n",
       "25%       16.000000  \n",
       "50%       23.000000  \n",
       "75%       32.000000  \n",
       "max      162.000000  "
      ]
     },
     "execution_count": 5,
     "metadata": {},
     "output_type": "execute_result"
    }
   ],
   "source": [
    "data.describe() # to get all the stats details of numerical columns"
   ]
  },
  {
   "cell_type": "code",
   "execution_count": 6,
   "metadata": {},
   "outputs": [
    {
     "data": {
      "text/plain": [
       "(80000, 28)"
      ]
     },
     "execution_count": 6,
     "metadata": {},
     "output_type": "execute_result"
    }
   ],
   "source": [
    "data.shape #(rows x columns)"
   ]
  },
  {
   "cell_type": "code",
   "execution_count": 7,
   "metadata": {},
   "outputs": [
    {
     "data": {
      "text/plain": [
       "0"
      ]
     },
     "execution_count": 7,
     "metadata": {},
     "output_type": "execute_result"
    }
   ],
   "source": [
    "data.duplicated().sum()"
   ]
  },
  {
   "cell_type": "code",
   "execution_count": 8,
   "metadata": {},
   "outputs": [
    {
     "data": {
      "text/plain": [
       "addr_state                 0\n",
       "annual_inc                 0\n",
       "earliest_cr_line           0\n",
       "emp_length              4588\n",
       "emp_title               5018\n",
       "fico_range_high            0\n",
       "fico_range_low             0\n",
       "grade                      0\n",
       "home_ownership             0\n",
       "application_type           0\n",
       "initial_list_status        0\n",
       "int_rate                   0\n",
       "loan_amnt                  0\n",
       "num_actv_bc_tl          3948\n",
       "mort_acc                2771\n",
       "tot_cur_bal             3948\n",
       "open_acc                   0\n",
       "pub_rec                    0\n",
       "pub_rec_bankruptcies      31\n",
       "purpose                    0\n",
       "revol_bal                  0\n",
       "revol_util                53\n",
       "sub_grade                  0\n",
       "term                       0\n",
       "title                    970\n",
       "total_acc                  0\n",
       "verification_status        0\n",
       "loan_status                0\n",
       "dtype: int64"
      ]
     },
     "execution_count": 8,
     "metadata": {},
     "output_type": "execute_result"
    }
   ],
   "source": [
    "data.isna().sum()"
   ]
  },
  {
   "cell_type": "markdown",
   "metadata": {},
   "source": [
    "### Handling Missing values\n",
    "\n",
    "    1.Drop the row\n",
    "    2.Replace with the statistical properties(Mean, Median and Mode)\n",
    "    3.Replace with a imputation\n",
    "    4.Create a new category label\n"
   ]
  },
  {
   "cell_type": "markdown",
   "metadata": {},
   "source": [
    "Before dropping any columns are columns analyze how significate these columns to identify credit risk (domain expertise required) "
   ]
  },
  {
   "cell_type": "code",
   "execution_count": 9,
   "metadata": {},
   "outputs": [
    {
     "data": {
      "text/plain": [
       "array(['10+ years', nan, '3 years', '< 1 year', '1 year', '8 years',\n",
       "       '7 years', '4 years', '2 years', '5 years', '6 years', '9 years'],\n",
       "      dtype=object)"
      ]
     },
     "execution_count": 9,
     "metadata": {},
     "output_type": "execute_result"
    }
   ],
   "source": [
    "# Employment length in years. \n",
    "# Possible values are between 0 and 10 where 0 means less than one year and 10 means ten or more years.\n",
    "\n",
    "data.emp_length.unique() # 4588 nulls"
   ]
  },
  {
   "cell_type": "code",
   "execution_count": 10,
   "metadata": {},
   "outputs": [
    {
     "data": {
      "text/plain": [
       "array(['Deputy', 'Department of Veterans Affairs', 'Marble polishing',\n",
       "       ..., 'COAL MINER', 'repair tec', 'Sports Group Manager'],\n",
       "      dtype=object)"
      ]
     },
     "execution_count": 10,
     "metadata": {},
     "output_type": "execute_result"
    }
   ],
   "source": [
    "# The job title supplied by the Borrower when applying for the loan.\n",
    "data.emp_title.unique() # 5018 nulls"
   ]
  },
  {
   "cell_type": "code",
   "execution_count": 11,
   "metadata": {},
   "outputs": [
    {
     "data": {
      "text/plain": [
       "array([ 1.,  4., 14., nan,  2.,  3.,  6.,  5.,  8.,  0.,  9.,  7., 11.,\n",
       "       10., 17., 13., 12., 19., 25., 16., 15., 20., 18., 24., 21., 22.,\n",
       "       26., 27., 32.])"
      ]
     },
     "execution_count": 11,
     "metadata": {},
     "output_type": "execute_result"
    }
   ],
   "source": [
    "# Number of currently active bankcard accounts.\n",
    "data.num_actv_bc_tl.unique() # 3948 nulls"
   ]
  },
  {
   "cell_type": "code",
   "execution_count": 12,
   "metadata": {},
   "outputs": [
    {
     "data": {
      "text/plain": [
       "array([ 1.,  0.,  2.,  7.,  4., nan,  3.,  5.,  8., 12.,  9.,  6., 10.,\n",
       "       11., 13., 16., 14., 26., 18., 15., 32., 22., 19., 20., 27., 31.,\n",
       "       17., 24., 29.])"
      ]
     },
     "execution_count": 12,
     "metadata": {},
     "output_type": "execute_result"
    }
   ],
   "source": [
    "# Number of mortgage accounts.\n",
    "data.mort_acc.unique() # 2771 nulls"
   ]
  },
  {
   "cell_type": "code",
   "execution_count": 13,
   "metadata": {},
   "outputs": [
    {
     "data": {
      "text/plain": [
       "array([ 319479.,   19944.,   23199., ...,  382274.,  201841., 3046776.])"
      ]
     },
     "execution_count": 13,
     "metadata": {},
     "output_type": "execute_result"
    }
   ],
   "source": [
    "# Total current balance of all accounts\n",
    "data.tot_cur_bal.unique() # 3948 nulls"
   ]
  },
  {
   "cell_type": "code",
   "execution_count": 14,
   "metadata": {},
   "outputs": [
    {
     "data": {
      "text/plain": [
       "array([ 0.,  1.,  2.,  3.,  5., nan,  4.,  7.,  6.])"
      ]
     },
     "execution_count": 14,
     "metadata": {},
     "output_type": "execute_result"
    }
   ],
   "source": [
    "# Number of public record bankruptcies.\n",
    "data.pub_rec_bankruptcies.unique() # 31 nulls"
   ]
  },
  {
   "cell_type": "code",
   "execution_count": 15,
   "metadata": {},
   "outputs": [
    {
     "data": {
      "text/plain": [
       "array([ 93.6,  60.3,  88.5, ..., 108. , 121.5, 113. ])"
      ]
     },
     "execution_count": 15,
     "metadata": {},
     "output_type": "execute_result"
    }
   ],
   "source": [
    "# Revolving line utilization rate, \n",
    "#or the amount of credit the borrower is using relative to all available revolving credit.\n",
    "\n",
    "data.revol_util.unique() # 53 nulls"
   ]
  },
  {
   "cell_type": "code",
   "execution_count": 16,
   "metadata": {},
   "outputs": [
    {
     "data": {
      "text/plain": [
       "array(['Debt consolidation', 'Credit Loan', 'Debt Connsolidation', ...,\n",
       "       'cr card payoff', 'Debt in one place', 'Consolidate 2012'],\n",
       "      dtype=object)"
      ]
     },
     "execution_count": 16,
     "metadata": {},
     "output_type": "execute_result"
    }
   ],
   "source": [
    "# The loan title provided by the borrower\n",
    "data.title.unique() # 970 nulls"
   ]
  },
  {
   "cell_type": "markdown",
   "metadata": {},
   "source": [
    "### Anlayze outliers for the numerical columns to replace missing values with mean or median"
   ]
  },
  {
   "cell_type": "code",
   "execution_count": 17,
   "metadata": {},
   "outputs": [
    {
     "data": {
      "text/plain": [
       "<matplotlib.axes._subplots.AxesSubplot at 0x1106a26d0>"
      ]
     },
     "execution_count": 17,
     "metadata": {},
     "output_type": "execute_result"
    },
    {
     "data": {
      "image/png": "[encoded data removed]",
      "text/plain": [
       "<Figure size 432x288 with 1 Axes>"
      ]
     },
     "metadata": {
      "needs_background": "light"
     },
     "output_type": "display_data"
    }
   ],
   "source": [
    "data['num_actv_bc_tl'].plot(kind= 'box') # Have outliers imputation using median"
   ]
  },
  {
   "cell_type": "code",
   "execution_count": 18,
   "metadata": {},
   "outputs": [
    {
     "data": {
      "text/plain": [
       "3.6337900383947823"
      ]
     },
     "execution_count": 18,
     "metadata": {},
     "output_type": "execute_result"
    }
   ],
   "source": [
    "data['num_actv_bc_tl'].mean()"
   ]
  },
  {
   "cell_type": "code",
   "execution_count": 19,
   "metadata": {},
   "outputs": [
    {
     "data": {
      "text/plain": [
       "3.0"
      ]
     },
     "execution_count": 19,
     "metadata": {},
     "output_type": "execute_result"
    }
   ],
   "source": [
    "data['num_actv_bc_tl'].median()"
   ]
  },
  {
   "cell_type": "code",
   "execution_count": 20,
   "metadata": {},
   "outputs": [
    {
     "data": {
      "text/plain": [
       "<matplotlib.axes._subplots.AxesSubplot at 0x123f72700>"
      ]
     },
     "execution_count": 20,
     "metadata": {},
     "output_type": "execute_result"
    },
    {
     "data": {
      "image/png": "[encoded data removed]",
      "text/plain": [
       "<Figure size 432x288 with 1 Axes>"
      ]
     },
     "metadata": {
      "needs_background": "light"
     },
     "output_type": "display_data"
    }
   ],
   "source": [
    "data['mort_acc'].plot(kind= 'box') # Have outliers imputation using median "
   ]
  },
  {
   "cell_type": "code",
   "execution_count": 21,
   "metadata": {},
   "outputs": [
    {
     "data": {
      "text/plain": [
       "1.6747594815419078"
      ]
     },
     "execution_count": 21,
     "metadata": {},
     "output_type": "execute_result"
    }
   ],
   "source": [
    "data['mort_acc'].mean()"
   ]
  },
  {
   "cell_type": "code",
   "execution_count": 22,
   "metadata": {},
   "outputs": [
    {
     "data": {
      "text/plain": [
       "1.0"
      ]
     },
     "execution_count": 22,
     "metadata": {},
     "output_type": "execute_result"
    }
   ],
   "source": [
    "data['mort_acc'].median()"
   ]
  },
  {
   "cell_type": "code",
   "execution_count": 23,
   "metadata": {
    "scrolled": true
   },
   "outputs": [
    {
     "data": {
      "text/plain": [
       "<matplotlib.axes._subplots.AxesSubplot at 0x123fd6730>"
      ]
     },
     "execution_count": 23,
     "metadata": {},
     "output_type": "execute_result"
    },
    {
     "data": {
      "image/png": "[encoded data removed]",
      "text/plain": [
       "<Figure size 432x288 with 1 Axes>"
      ]
     },
     "metadata": {
      "needs_background": "light"
     },
     "output_type": "display_data"
    }
   ],
   "source": [
    "data.tot_cur_bal.plot(kind= 'box') # Have outliers imputation using median "
   ]
  },
  {
   "cell_type": "code",
   "execution_count": 24,
   "metadata": {},
   "outputs": [
    {
     "data": {
      "text/plain": [
       "141586.35899121655"
      ]
     },
     "execution_count": 24,
     "metadata": {},
     "output_type": "execute_result"
    }
   ],
   "source": [
    "data.tot_cur_bal.mean()"
   ]
  },
  {
   "cell_type": "code",
   "execution_count": 25,
   "metadata": {},
   "outputs": [
    {
     "data": {
      "text/plain": [
       "81000.5"
      ]
     },
     "execution_count": 25,
     "metadata": {},
     "output_type": "execute_result"
    }
   ],
   "source": [
    "data.tot_cur_bal.median()"
   ]
  },
  {
   "cell_type": "code",
   "execution_count": 26,
   "metadata": {},
   "outputs": [
    {
     "data": {
      "text/plain": [
       "<matplotlib.axes._subplots.AxesSubplot at 0x12402fca0>"
      ]
     },
     "execution_count": 26,
     "metadata": {},
     "output_type": "execute_result"
    },
    {
     "data": {
      "image/png": "[encoded data removed]",
      "text/plain": [
       "<Figure size 432x288 with 1 Axes>"
      ]
     },
     "metadata": {
      "needs_background": "light"
     },
     "output_type": "display_data"
    }
   ],
   "source": [
    "data.pub_rec_bankruptcies.plot(kind= 'box') # Have outliers imputation using median "
   ]
  },
  {
   "cell_type": "code",
   "execution_count": 27,
   "metadata": {},
   "outputs": [
    {
     "data": {
      "text/plain": [
       "0.1371031274618915"
      ]
     },
     "execution_count": 27,
     "metadata": {},
     "output_type": "execute_result"
    }
   ],
   "source": [
    "data.pub_rec_bankruptcies.mean() "
   ]
  },
  {
   "cell_type": "code",
   "execution_count": 28,
   "metadata": {},
   "outputs": [
    {
     "data": {
      "text/plain": [
       "0.0"
      ]
     },
     "execution_count": 28,
     "metadata": {},
     "output_type": "execute_result"
    }
   ],
   "source": [
    "data.pub_rec_bankruptcies.median()"
   ]
  },
  {
   "cell_type": "code",
   "execution_count": 29,
   "metadata": {},
   "outputs": [
    {
     "data": {
      "text/plain": [
       "<matplotlib.axes._subplots.AxesSubplot at 0x124096e20>"
      ]
     },
     "execution_count": 29,
     "metadata": {},
     "output_type": "execute_result"
    },
    {
     "data": {
      "image/png": "[encoded data removed]",
      "text/plain": [
       "<Figure size 432x288 with 1 Axes>"
      ]
     },
     "metadata": {
      "needs_background": "light"
     },
     "output_type": "display_data"
    }
   ],
   "source": [
    "data.revol_util.plot(kind= 'box') # Have outliers imputation using median"
   ]
  },
  {
   "cell_type": "code",
   "execution_count": 30,
   "metadata": {},
   "outputs": [
    {
     "data": {
      "text/plain": [
       "51.8991423067781"
      ]
     },
     "execution_count": 30,
     "metadata": {},
     "output_type": "execute_result"
    }
   ],
   "source": [
    "data.revol_util.mean() "
   ]
  },
  {
   "cell_type": "code",
   "execution_count": 31,
   "metadata": {},
   "outputs": [
    {
     "data": {
      "text/plain": [
       "52.2"
      ]
     },
     "execution_count": 31,
     "metadata": {},
     "output_type": "execute_result"
    }
   ],
   "source": [
    "data.revol_util.median()"
   ]
  },
  {
   "cell_type": "markdown",
   "metadata": {},
   "source": [
    "## split data to numeric and categorical"
   ]
  },
  {
   "cell_type": "markdown",
   "metadata": {},
   "source": [
    "### Numerical data analysis along with imputation to fill na's and minmax encoding to Standardize the data."
   ]
  },
  {
   "cell_type": "code",
   "execution_count": 32,
   "metadata": {},
   "outputs": [],
   "source": [
    "numerical_data = data.select_dtypes(include=np.number)"
   ]
  },
  {
   "cell_type": "code",
   "execution_count": 33,
   "metadata": {},
   "outputs": [
    {
     "name": "stdout",
     "output_type": "stream",
     "text": [
      "<class 'pandas.core.frame.DataFrame'>\n",
      "RangeIndex: 80000 entries, 0 to 79999\n",
      "Data columns (total 14 columns):\n",
      " #   Column                Non-Null Count  Dtype  \n",
      "---  ------                --------------  -----  \n",
      " 0   annual_inc            80000 non-null  float64\n",
      " 1   fico_range_high       80000 non-null  float64\n",
      " 2   fico_range_low        80000 non-null  float64\n",
      " 3   int_rate              80000 non-null  float64\n",
      " 4   loan_amnt             80000 non-null  float64\n",
      " 5   num_actv_bc_tl        76052 non-null  float64\n",
      " 6   mort_acc              77229 non-null  float64\n",
      " 7   tot_cur_bal           76052 non-null  float64\n",
      " 8   open_acc              80000 non-null  float64\n",
      " 9   pub_rec               80000 non-null  float64\n",
      " 10  pub_rec_bankruptcies  79969 non-null  float64\n",
      " 11  revol_bal             80000 non-null  float64\n",
      " 12  revol_util            79947 non-null  float64\n",
      " 13  total_acc             80000 non-null  float64\n",
      "dtypes: float64(14)\n",
      "memory usage: 8.5 MB\n"
     ]
    }
   ],
   "source": [
    "numerical_data.info()"
   ]
  },
  {
   "cell_type": "code",
   "execution_count": 34,
   "metadata": {},
   "outputs": [
    {
     "data": {
      "text/html": [
       "<div>\n",
       "<style scoped>\n",
       "    .dataframe tbody tr th:only-of-type {\n",
       "        vertical-align: middle;\n",
       "    }\n",
       "\n",
       "    .dataframe tbody tr th {\n",
       "        vertical-align: top;\n",
       "    }\n",
       "\n",
       "    .dataframe thead th {\n",
       "        text-align: right;\n",
       "    }\n",
       "</style>\n",
       "<table border=\"1\" class=\"dataframe\">\n",
       "  <thead>\n",
       "    <tr style=\"text-align: right;\">\n",
       "      <th></th>\n",
       "      <th>annual_inc</th>\n",
       "      <th>fico_range_high</th>\n",
       "      <th>fico_range_low</th>\n",
       "      <th>int_rate</th>\n",
       "      <th>loan_amnt</th>\n",
       "      <th>num_actv_bc_tl</th>\n",
       "      <th>mort_acc</th>\n",
       "      <th>tot_cur_bal</th>\n",
       "      <th>open_acc</th>\n",
       "      <th>pub_rec</th>\n",
       "      <th>pub_rec_bankruptcies</th>\n",
       "      <th>revol_bal</th>\n",
       "      <th>revol_util</th>\n",
       "      <th>total_acc</th>\n",
       "    </tr>\n",
       "  </thead>\n",
       "  <tbody>\n",
       "    <tr>\n",
       "      <th>0</th>\n",
       "      <td>85000.0</td>\n",
       "      <td>744.0</td>\n",
       "      <td>740.0</td>\n",
       "      <td>18.99</td>\n",
       "      <td>18075.0</td>\n",
       "      <td>1.0</td>\n",
       "      <td>1.0</td>\n",
       "      <td>319479.0</td>\n",
       "      <td>7.0</td>\n",
       "      <td>0.0</td>\n",
       "      <td>0.0</td>\n",
       "      <td>5338.0</td>\n",
       "      <td>93.6</td>\n",
       "      <td>8.0</td>\n",
       "    </tr>\n",
       "    <tr>\n",
       "      <th>1</th>\n",
       "      <td>40000.0</td>\n",
       "      <td>724.0</td>\n",
       "      <td>720.0</td>\n",
       "      <td>10.16</td>\n",
       "      <td>8800.0</td>\n",
       "      <td>4.0</td>\n",
       "      <td>0.0</td>\n",
       "      <td>19944.0</td>\n",
       "      <td>5.0</td>\n",
       "      <td>0.0</td>\n",
       "      <td>0.0</td>\n",
       "      <td>19944.0</td>\n",
       "      <td>60.3</td>\n",
       "      <td>12.0</td>\n",
       "    </tr>\n",
       "    <tr>\n",
       "      <th>2</th>\n",
       "      <td>60000.0</td>\n",
       "      <td>679.0</td>\n",
       "      <td>675.0</td>\n",
       "      <td>11.47</td>\n",
       "      <td>18000.0</td>\n",
       "      <td>4.0</td>\n",
       "      <td>2.0</td>\n",
       "      <td>23199.0</td>\n",
       "      <td>7.0</td>\n",
       "      <td>0.0</td>\n",
       "      <td>0.0</td>\n",
       "      <td>23199.0</td>\n",
       "      <td>88.5</td>\n",
       "      <td>16.0</td>\n",
       "    </tr>\n",
       "    <tr>\n",
       "      <th>3</th>\n",
       "      <td>100742.0</td>\n",
       "      <td>664.0</td>\n",
       "      <td>660.0</td>\n",
       "      <td>9.16</td>\n",
       "      <td>20000.0</td>\n",
       "      <td>4.0</td>\n",
       "      <td>1.0</td>\n",
       "      <td>72651.0</td>\n",
       "      <td>12.0</td>\n",
       "      <td>0.0</td>\n",
       "      <td>0.0</td>\n",
       "      <td>18425.0</td>\n",
       "      <td>69.0</td>\n",
       "      <td>19.0</td>\n",
       "    </tr>\n",
       "    <tr>\n",
       "      <th>4</th>\n",
       "      <td>80000.0</td>\n",
       "      <td>669.0</td>\n",
       "      <td>665.0</td>\n",
       "      <td>23.83</td>\n",
       "      <td>35000.0</td>\n",
       "      <td>14.0</td>\n",
       "      <td>7.0</td>\n",
       "      <td>64631.0</td>\n",
       "      <td>23.0</td>\n",
       "      <td>0.0</td>\n",
       "      <td>0.0</td>\n",
       "      <td>34370.0</td>\n",
       "      <td>90.0</td>\n",
       "      <td>59.0</td>\n",
       "    </tr>\n",
       "    <tr>\n",
       "      <th>...</th>\n",
       "      <td>...</td>\n",
       "      <td>...</td>\n",
       "      <td>...</td>\n",
       "      <td>...</td>\n",
       "      <td>...</td>\n",
       "      <td>...</td>\n",
       "      <td>...</td>\n",
       "      <td>...</td>\n",
       "      <td>...</td>\n",
       "      <td>...</td>\n",
       "      <td>...</td>\n",
       "      <td>...</td>\n",
       "      <td>...</td>\n",
       "      <td>...</td>\n",
       "    </tr>\n",
       "    <tr>\n",
       "      <th>79995</th>\n",
       "      <td>81000.0</td>\n",
       "      <td>664.0</td>\n",
       "      <td>660.0</td>\n",
       "      <td>25.89</td>\n",
       "      <td>25850.0</td>\n",
       "      <td>5.0</td>\n",
       "      <td>4.0</td>\n",
       "      <td>220521.0</td>\n",
       "      <td>12.0</td>\n",
       "      <td>0.0</td>\n",
       "      <td>0.0</td>\n",
       "      <td>20201.0</td>\n",
       "      <td>93.5</td>\n",
       "      <td>42.0</td>\n",
       "    </tr>\n",
       "    <tr>\n",
       "      <th>79996</th>\n",
       "      <td>45000.0</td>\n",
       "      <td>684.0</td>\n",
       "      <td>680.0</td>\n",
       "      <td>12.29</td>\n",
       "      <td>6975.0</td>\n",
       "      <td>2.0</td>\n",
       "      <td>2.0</td>\n",
       "      <td>245781.0</td>\n",
       "      <td>7.0</td>\n",
       "      <td>0.0</td>\n",
       "      <td>0.0</td>\n",
       "      <td>6145.0</td>\n",
       "      <td>56.9</td>\n",
       "      <td>14.0</td>\n",
       "    </tr>\n",
       "    <tr>\n",
       "      <th>79997</th>\n",
       "      <td>90000.0</td>\n",
       "      <td>724.0</td>\n",
       "      <td>720.0</td>\n",
       "      <td>10.99</td>\n",
       "      <td>7000.0</td>\n",
       "      <td>1.0</td>\n",
       "      <td>3.0</td>\n",
       "      <td>382274.0</td>\n",
       "      <td>9.0</td>\n",
       "      <td>0.0</td>\n",
       "      <td>0.0</td>\n",
       "      <td>3910.0</td>\n",
       "      <td>25.6</td>\n",
       "      <td>26.0</td>\n",
       "    </tr>\n",
       "    <tr>\n",
       "      <th>79998</th>\n",
       "      <td>94000.0</td>\n",
       "      <td>669.0</td>\n",
       "      <td>665.0</td>\n",
       "      <td>19.47</td>\n",
       "      <td>18000.0</td>\n",
       "      <td>3.0</td>\n",
       "      <td>3.0</td>\n",
       "      <td>201841.0</td>\n",
       "      <td>16.0</td>\n",
       "      <td>1.0</td>\n",
       "      <td>1.0</td>\n",
       "      <td>11897.0</td>\n",
       "      <td>49.4</td>\n",
       "      <td>48.0</td>\n",
       "    </tr>\n",
       "    <tr>\n",
       "      <th>79999</th>\n",
       "      <td>1100000.0</td>\n",
       "      <td>664.0</td>\n",
       "      <td>660.0</td>\n",
       "      <td>10.78</td>\n",
       "      <td>20000.0</td>\n",
       "      <td>4.0</td>\n",
       "      <td>2.0</td>\n",
       "      <td>3046776.0</td>\n",
       "      <td>13.0</td>\n",
       "      <td>0.0</td>\n",
       "      <td>0.0</td>\n",
       "      <td>586259.0</td>\n",
       "      <td>96.7</td>\n",
       "      <td>32.0</td>\n",
       "    </tr>\n",
       "  </tbody>\n",
       "</table>\n",
       "<p>80000 rows × 14 columns</p>\n",
       "</div>"
      ],
      "text/plain": [
       "       annual_inc  fico_range_high  fico_range_low  int_rate  loan_amnt  \\\n",
       "0         85000.0            744.0           740.0     18.99    18075.0   \n",
       "1         40000.0            724.0           720.0     10.16     8800.0   \n",
       "2         60000.0            679.0           675.0     11.47    18000.0   \n",
       "3        100742.0            664.0           660.0      9.16    20000.0   \n",
       "4         80000.0            669.0           665.0     23.83    35000.0   \n",
       "...           ...              ...             ...       ...        ...   \n",
       "79995     81000.0            664.0           660.0     25.89    25850.0   \n",
       "79996     45000.0            684.0           680.0     12.29     6975.0   \n",
       "79997     90000.0            724.0           720.0     10.99     7000.0   \n",
       "79998     94000.0            669.0           665.0     19.47    18000.0   \n",
       "79999   1100000.0            664.0           660.0     10.78    20000.0   \n",
       "\n",
       "       num_actv_bc_tl  mort_acc  tot_cur_bal  open_acc  pub_rec  \\\n",
       "0                 1.0       1.0     319479.0       7.0      0.0   \n",
       "1                 4.0       0.0      19944.0       5.0      0.0   \n",
       "2                 4.0       2.0      23199.0       7.0      0.0   \n",
       "3                 4.0       1.0      72651.0      12.0      0.0   \n",
       "4                14.0       7.0      64631.0      23.0      0.0   \n",
       "...               ...       ...          ...       ...      ...   \n",
       "79995             5.0       4.0     220521.0      12.0      0.0   \n",
       "79996             2.0       2.0     245781.0       7.0      0.0   \n",
       "79997             1.0       3.0     382274.0       9.0      0.0   \n",
       "79998             3.0       3.0     201841.0      16.0      1.0   \n",
       "79999             4.0       2.0    3046776.0      13.0      0.0   \n",
       "\n",
       "       pub_rec_bankruptcies  revol_bal  revol_util  total_acc  \n",
       "0                       0.0     5338.0        93.6        8.0  \n",
       "1                       0.0    19944.0        60.3       12.0  \n",
       "2                       0.0    23199.0        88.5       16.0  \n",
       "3                       0.0    18425.0        69.0       19.0  \n",
       "4                       0.0    34370.0        90.0       59.0  \n",
       "...                     ...        ...         ...        ...  \n",
       "79995                   0.0    20201.0        93.5       42.0  \n",
       "79996                   0.0     6145.0        56.9       14.0  \n",
       "79997                   0.0     3910.0        25.6       26.0  \n",
       "79998                   1.0    11897.0        49.4       48.0  \n",
       "79999                   0.0   586259.0        96.7       32.0  \n",
       "\n",
       "[80000 rows x 14 columns]"
      ]
     },
     "execution_count": 34,
     "metadata": {},
     "output_type": "execute_result"
    }
   ],
   "source": [
    "numerical_data"
   ]
  },
  {
   "cell_type": "code",
   "execution_count": 35,
   "metadata": {},
   "outputs": [
    {
     "data": {
      "text/plain": [
       "annual_inc                 0\n",
       "fico_range_high            0\n",
       "fico_range_low             0\n",
       "int_rate                   0\n",
       "loan_amnt                  0\n",
       "num_actv_bc_tl          3948\n",
       "mort_acc                2771\n",
       "tot_cur_bal             3948\n",
       "open_acc                   0\n",
       "pub_rec                    0\n",
       "pub_rec_bankruptcies      31\n",
       "revol_bal                  0\n",
       "revol_util                53\n",
       "total_acc                  0\n",
       "dtype: int64"
      ]
     },
     "execution_count": 35,
     "metadata": {},
     "output_type": "execute_result"
    }
   ],
   "source": [
    "numerical_data.isna().sum()"
   ]
  },
  {
   "cell_type": "code",
   "execution_count": 36,
   "metadata": {},
   "outputs": [],
   "source": [
    "clone_numeric_data = numerical_data.copy()"
   ]
  },
  {
   "cell_type": "code",
   "execution_count": 37,
   "metadata": {
    "scrolled": true
   },
   "outputs": [
    {
     "data": {
      "text/plain": [
       "Index(['annual_inc', 'fico_range_high', 'fico_range_low', 'int_rate',\n",
       "       'loan_amnt', 'num_actv_bc_tl', 'mort_acc', 'tot_cur_bal', 'open_acc',\n",
       "       'pub_rec', 'pub_rec_bankruptcies', 'revol_bal', 'revol_util',\n",
       "       'total_acc'],\n",
       "      dtype='object')"
      ]
     },
     "execution_count": 37,
     "metadata": {},
     "output_type": "execute_result"
    }
   ],
   "source": [
    "numerical_data.columns"
   ]
  },
  {
   "cell_type": "code",
   "execution_count": 38,
   "metadata": {},
   "outputs": [],
   "source": [
    "imputer = SimpleImputer(missing_values=np.nan, strategy='median')\n",
    "imputer.fit(clone_numeric_data[numerical_data.columns])\n",
    "imputed_numeric_data = imputer.fit_transform(clone_numeric_data[numerical_data.columns])"
   ]
  },
  {
   "cell_type": "code",
   "execution_count": 39,
   "metadata": {},
   "outputs": [
    {
     "data": {
      "text/plain": [
       "array([[8.50000e+04, 7.44000e+02, 7.40000e+02, ..., 5.33800e+03,\n",
       "        9.36000e+01, 8.00000e+00],\n",
       "       [4.00000e+04, 7.24000e+02, 7.20000e+02, ..., 1.99440e+04,\n",
       "        6.03000e+01, 1.20000e+01],\n",
       "       [6.00000e+04, 6.79000e+02, 6.75000e+02, ..., 2.31990e+04,\n",
       "        8.85000e+01, 1.60000e+01],\n",
       "       ...,\n",
       "       [9.00000e+04, 7.24000e+02, 7.20000e+02, ..., 3.91000e+03,\n",
       "        2.56000e+01, 2.60000e+01],\n",
       "       [9.40000e+04, 6.69000e+02, 6.65000e+02, ..., 1.18970e+04,\n",
       "        4.94000e+01, 4.80000e+01],\n",
       "       [1.10000e+06, 6.64000e+02, 6.60000e+02, ..., 5.86259e+05,\n",
       "        9.67000e+01, 3.20000e+01]])"
      ]
     },
     "execution_count": 39,
     "metadata": {},
     "output_type": "execute_result"
    }
   ],
   "source": [
    "imputed_numeric_data"
   ]
  },
  {
   "cell_type": "code",
   "execution_count": 40,
   "metadata": {},
   "outputs": [],
   "source": [
    "imputed_numeric_dataframe = pd.DataFrame(imputed_numeric_data,columns=numerical_data.columns)"
   ]
  },
  {
   "cell_type": "code",
   "execution_count": 41,
   "metadata": {},
   "outputs": [
    {
     "data": {
      "text/html": [
       "<div>\n",
       "<style scoped>\n",
       "    .dataframe tbody tr th:only-of-type {\n",
       "        vertical-align: middle;\n",
       "    }\n",
       "\n",
       "    .dataframe tbody tr th {\n",
       "        vertical-align: top;\n",
       "    }\n",
       "\n",
       "    .dataframe thead th {\n",
       "        text-align: right;\n",
       "    }\n",
       "</style>\n",
       "<table border=\"1\" class=\"dataframe\">\n",
       "  <thead>\n",
       "    <tr style=\"text-align: right;\">\n",
       "      <th></th>\n",
       "      <th>annual_inc</th>\n",
       "      <th>fico_range_high</th>\n",
       "      <th>fico_range_low</th>\n",
       "      <th>int_rate</th>\n",
       "      <th>loan_amnt</th>\n",
       "      <th>num_actv_bc_tl</th>\n",
       "      <th>mort_acc</th>\n",
       "      <th>tot_cur_bal</th>\n",
       "      <th>open_acc</th>\n",
       "      <th>pub_rec</th>\n",
       "      <th>pub_rec_bankruptcies</th>\n",
       "      <th>revol_bal</th>\n",
       "      <th>revol_util</th>\n",
       "      <th>total_acc</th>\n",
       "    </tr>\n",
       "  </thead>\n",
       "  <tbody>\n",
       "    <tr>\n",
       "      <th>0</th>\n",
       "      <td>85000.0</td>\n",
       "      <td>744.0</td>\n",
       "      <td>740.0</td>\n",
       "      <td>18.99</td>\n",
       "      <td>18075.0</td>\n",
       "      <td>1.0</td>\n",
       "      <td>1.0</td>\n",
       "      <td>319479.0</td>\n",
       "      <td>7.0</td>\n",
       "      <td>0.0</td>\n",
       "      <td>0.0</td>\n",
       "      <td>5338.0</td>\n",
       "      <td>93.6</td>\n",
       "      <td>8.0</td>\n",
       "    </tr>\n",
       "    <tr>\n",
       "      <th>1</th>\n",
       "      <td>40000.0</td>\n",
       "      <td>724.0</td>\n",
       "      <td>720.0</td>\n",
       "      <td>10.16</td>\n",
       "      <td>8800.0</td>\n",
       "      <td>4.0</td>\n",
       "      <td>0.0</td>\n",
       "      <td>19944.0</td>\n",
       "      <td>5.0</td>\n",
       "      <td>0.0</td>\n",
       "      <td>0.0</td>\n",
       "      <td>19944.0</td>\n",
       "      <td>60.3</td>\n",
       "      <td>12.0</td>\n",
       "    </tr>\n",
       "    <tr>\n",
       "      <th>2</th>\n",
       "      <td>60000.0</td>\n",
       "      <td>679.0</td>\n",
       "      <td>675.0</td>\n",
       "      <td>11.47</td>\n",
       "      <td>18000.0</td>\n",
       "      <td>4.0</td>\n",
       "      <td>2.0</td>\n",
       "      <td>23199.0</td>\n",
       "      <td>7.0</td>\n",
       "      <td>0.0</td>\n",
       "      <td>0.0</td>\n",
       "      <td>23199.0</td>\n",
       "      <td>88.5</td>\n",
       "      <td>16.0</td>\n",
       "    </tr>\n",
       "    <tr>\n",
       "      <th>3</th>\n",
       "      <td>100742.0</td>\n",
       "      <td>664.0</td>\n",
       "      <td>660.0</td>\n",
       "      <td>9.16</td>\n",
       "      <td>20000.0</td>\n",
       "      <td>4.0</td>\n",
       "      <td>1.0</td>\n",
       "      <td>72651.0</td>\n",
       "      <td>12.0</td>\n",
       "      <td>0.0</td>\n",
       "      <td>0.0</td>\n",
       "      <td>18425.0</td>\n",
       "      <td>69.0</td>\n",
       "      <td>19.0</td>\n",
       "    </tr>\n",
       "    <tr>\n",
       "      <th>4</th>\n",
       "      <td>80000.0</td>\n",
       "      <td>669.0</td>\n",
       "      <td>665.0</td>\n",
       "      <td>23.83</td>\n",
       "      <td>35000.0</td>\n",
       "      <td>14.0</td>\n",
       "      <td>7.0</td>\n",
       "      <td>64631.0</td>\n",
       "      <td>23.0</td>\n",
       "      <td>0.0</td>\n",
       "      <td>0.0</td>\n",
       "      <td>34370.0</td>\n",
       "      <td>90.0</td>\n",
       "      <td>59.0</td>\n",
       "    </tr>\n",
       "    <tr>\n",
       "      <th>...</th>\n",
       "      <td>...</td>\n",
       "      <td>...</td>\n",
       "      <td>...</td>\n",
       "      <td>...</td>\n",
       "      <td>...</td>\n",
       "      <td>...</td>\n",
       "      <td>...</td>\n",
       "      <td>...</td>\n",
       "      <td>...</td>\n",
       "      <td>...</td>\n",
       "      <td>...</td>\n",
       "      <td>...</td>\n",
       "      <td>...</td>\n",
       "      <td>...</td>\n",
       "    </tr>\n",
       "    <tr>\n",
       "      <th>79995</th>\n",
       "      <td>81000.0</td>\n",
       "      <td>664.0</td>\n",
       "      <td>660.0</td>\n",
       "      <td>25.89</td>\n",
       "      <td>25850.0</td>\n",
       "      <td>5.0</td>\n",
       "      <td>4.0</td>\n",
       "      <td>220521.0</td>\n",
       "      <td>12.0</td>\n",
       "      <td>0.0</td>\n",
       "      <td>0.0</td>\n",
       "      <td>20201.0</td>\n",
       "      <td>93.5</td>\n",
       "      <td>42.0</td>\n",
       "    </tr>\n",
       "    <tr>\n",
       "      <th>79996</th>\n",
       "      <td>45000.0</td>\n",
       "      <td>684.0</td>\n",
       "      <td>680.0</td>\n",
       "      <td>12.29</td>\n",
       "      <td>6975.0</td>\n",
       "      <td>2.0</td>\n",
       "      <td>2.0</td>\n",
       "      <td>245781.0</td>\n",
       "      <td>7.0</td>\n",
       "      <td>0.0</td>\n",
       "      <td>0.0</td>\n",
       "      <td>6145.0</td>\n",
       "      <td>56.9</td>\n",
       "      <td>14.0</td>\n",
       "    </tr>\n",
       "    <tr>\n",
       "      <th>79997</th>\n",
       "      <td>90000.0</td>\n",
       "      <td>724.0</td>\n",
       "      <td>720.0</td>\n",
       "      <td>10.99</td>\n",
       "      <td>7000.0</td>\n",
       "      <td>1.0</td>\n",
       "      <td>3.0</td>\n",
       "      <td>382274.0</td>\n",
       "      <td>9.0</td>\n",
       "      <td>0.0</td>\n",
       "      <td>0.0</td>\n",
       "      <td>3910.0</td>\n",
       "      <td>25.6</td>\n",
       "      <td>26.0</td>\n",
       "    </tr>\n",
       "    <tr>\n",
       "      <th>79998</th>\n",
       "      <td>94000.0</td>\n",
       "      <td>669.0</td>\n",
       "      <td>665.0</td>\n",
       "      <td>19.47</td>\n",
       "      <td>18000.0</td>\n",
       "      <td>3.0</td>\n",
       "      <td>3.0</td>\n",
       "      <td>201841.0</td>\n",
       "      <td>16.0</td>\n",
       "      <td>1.0</td>\n",
       "      <td>1.0</td>\n",
       "      <td>11897.0</td>\n",
       "      <td>49.4</td>\n",
       "      <td>48.0</td>\n",
       "    </tr>\n",
       "    <tr>\n",
       "      <th>79999</th>\n",
       "      <td>1100000.0</td>\n",
       "      <td>664.0</td>\n",
       "      <td>660.0</td>\n",
       "      <td>10.78</td>\n",
       "      <td>20000.0</td>\n",
       "      <td>4.0</td>\n",
       "      <td>2.0</td>\n",
       "      <td>3046776.0</td>\n",
       "      <td>13.0</td>\n",
       "      <td>0.0</td>\n",
       "      <td>0.0</td>\n",
       "      <td>586259.0</td>\n",
       "      <td>96.7</td>\n",
       "      <td>32.0</td>\n",
       "    </tr>\n",
       "  </tbody>\n",
       "</table>\n",
       "<p>80000 rows × 14 columns</p>\n",
       "</div>"
      ],
      "text/plain": [
       "       annual_inc  fico_range_high  fico_range_low  int_rate  loan_amnt  \\\n",
       "0         85000.0            744.0           740.0     18.99    18075.0   \n",
       "1         40000.0            724.0           720.0     10.16     8800.0   \n",
       "2         60000.0            679.0           675.0     11.47    18000.0   \n",
       "3        100742.0            664.0           660.0      9.16    20000.0   \n",
       "4         80000.0            669.0           665.0     23.83    35000.0   \n",
       "...           ...              ...             ...       ...        ...   \n",
       "79995     81000.0            664.0           660.0     25.89    25850.0   \n",
       "79996     45000.0            684.0           680.0     12.29     6975.0   \n",
       "79997     90000.0            724.0           720.0     10.99     7000.0   \n",
       "79998     94000.0            669.0           665.0     19.47    18000.0   \n",
       "79999   1100000.0            664.0           660.0     10.78    20000.0   \n",
       "\n",
       "       num_actv_bc_tl  mort_acc  tot_cur_bal  open_acc  pub_rec  \\\n",
       "0                 1.0       1.0     319479.0       7.0      0.0   \n",
       "1                 4.0       0.0      19944.0       5.0      0.0   \n",
       "2                 4.0       2.0      23199.0       7.0      0.0   \n",
       "3                 4.0       1.0      72651.0      12.0      0.0   \n",
       "4                14.0       7.0      64631.0      23.0      0.0   \n",
       "...               ...       ...          ...       ...      ...   \n",
       "79995             5.0       4.0     220521.0      12.0      0.0   \n",
       "79996             2.0       2.0     245781.0       7.0      0.0   \n",
       "79997             1.0       3.0     382274.0       9.0      0.0   \n",
       "79998             3.0       3.0     201841.0      16.0      1.0   \n",
       "79999             4.0       2.0    3046776.0      13.0      0.0   \n",
       "\n",
       "       pub_rec_bankruptcies  revol_bal  revol_util  total_acc  \n",
       "0                       0.0     5338.0        93.6        8.0  \n",
       "1                       0.0    19944.0        60.3       12.0  \n",
       "2                       0.0    23199.0        88.5       16.0  \n",
       "3                       0.0    18425.0        69.0       19.0  \n",
       "4                       0.0    34370.0        90.0       59.0  \n",
       "...                     ...        ...         ...        ...  \n",
       "79995                   0.0    20201.0        93.5       42.0  \n",
       "79996                   0.0     6145.0        56.9       14.0  \n",
       "79997                   0.0     3910.0        25.6       26.0  \n",
       "79998                   1.0    11897.0        49.4       48.0  \n",
       "79999                   0.0   586259.0        96.7       32.0  \n",
       "\n",
       "[80000 rows x 14 columns]"
      ]
     },
     "execution_count": 41,
     "metadata": {},
     "output_type": "execute_result"
    }
   ],
   "source": [
    "imputed_numeric_dataframe"
   ]
  },
  {
   "cell_type": "code",
   "execution_count": 42,
   "metadata": {},
   "outputs": [
    {
     "name": "stdout",
     "output_type": "stream",
     "text": [
      "<class 'pandas.core.frame.DataFrame'>\n",
      "RangeIndex: 80000 entries, 0 to 79999\n",
      "Data columns (total 14 columns):\n",
      " #   Column                Non-Null Count  Dtype  \n",
      "---  ------                --------------  -----  \n",
      " 0   annual_inc            80000 non-null  float64\n",
      " 1   fico_range_high       80000 non-null  float64\n",
      " 2   fico_range_low        80000 non-null  float64\n",
      " 3   int_rate              80000 non-null  float64\n",
      " 4   loan_amnt             80000 non-null  float64\n",
      " 5   num_actv_bc_tl        80000 non-null  float64\n",
      " 6   mort_acc              80000 non-null  float64\n",
      " 7   tot_cur_bal           80000 non-null  float64\n",
      " 8   open_acc              80000 non-null  float64\n",
      " 9   pub_rec               80000 non-null  float64\n",
      " 10  pub_rec_bankruptcies  80000 non-null  float64\n",
      " 11  revol_bal             80000 non-null  float64\n",
      " 12  revol_util            80000 non-null  float64\n",
      " 13  total_acc             80000 non-null  float64\n",
      "dtypes: float64(14)\n",
      "memory usage: 8.5 MB\n",
      "<class 'pandas.core.frame.DataFrame'>\n",
      "RangeIndex: 80000 entries, 0 to 79999\n",
      "Data columns (total 14 columns):\n",
      " #   Column                Non-Null Count  Dtype  \n",
      "---  ------                --------------  -----  \n",
      " 0   annual_inc            80000 non-null  float64\n",
      " 1   fico_range_high       80000 non-null  float64\n",
      " 2   fico_range_low        80000 non-null  float64\n",
      " 3   int_rate              80000 non-null  float64\n",
      " 4   loan_amnt             80000 non-null  float64\n",
      " 5   num_actv_bc_tl        76052 non-null  float64\n",
      " 6   mort_acc              77229 non-null  float64\n",
      " 7   tot_cur_bal           76052 non-null  float64\n",
      " 8   open_acc              80000 non-null  float64\n",
      " 9   pub_rec               80000 non-null  float64\n",
      " 10  pub_rec_bankruptcies  79969 non-null  float64\n",
      " 11  revol_bal             80000 non-null  float64\n",
      " 12  revol_util            79947 non-null  float64\n",
      " 13  total_acc             80000 non-null  float64\n",
      "dtypes: float64(14)\n",
      "memory usage: 8.5 MB\n"
     ]
    }
   ],
   "source": [
    "imputed_numeric_dataframe.info()\n",
    "numerical_data.info()"
   ]
  },
  {
   "cell_type": "code",
   "execution_count": 43,
   "metadata": {},
   "outputs": [
    {
     "data": {
      "text/plain": [
       "annual_inc              0\n",
       "fico_range_high         0\n",
       "fico_range_low          0\n",
       "int_rate                0\n",
       "loan_amnt               0\n",
       "num_actv_bc_tl          0\n",
       "mort_acc                0\n",
       "tot_cur_bal             0\n",
       "open_acc                0\n",
       "pub_rec                 0\n",
       "pub_rec_bankruptcies    0\n",
       "revol_bal               0\n",
       "revol_util              0\n",
       "total_acc               0\n",
       "dtype: int64"
      ]
     },
     "execution_count": 43,
     "metadata": {},
     "output_type": "execute_result"
    }
   ],
   "source": [
    "imputed_numeric_dataframe.isna().sum()"
   ]
  },
  {
   "cell_type": "markdown",
   "metadata": {},
   "source": [
    "### categorical data analysis along with imputation to fill na's and onehot encoding to Standardize the data."
   ]
  },
  {
   "cell_type": "code",
   "execution_count": 44,
   "metadata": {},
   "outputs": [],
   "source": [
    "categorical_data = data.select_dtypes(exclude = np.number)"
   ]
  },
  {
   "cell_type": "code",
   "execution_count": 45,
   "metadata": {},
   "outputs": [
    {
     "name": "stdout",
     "output_type": "stream",
     "text": [
      "<class 'pandas.core.frame.DataFrame'>\n",
      "RangeIndex: 80000 entries, 0 to 79999\n",
      "Data columns (total 14 columns):\n",
      " #   Column               Non-Null Count  Dtype \n",
      "---  ------               --------------  ----- \n",
      " 0   addr_state           80000 non-null  object\n",
      " 1   earliest_cr_line     80000 non-null  object\n",
      " 2   emp_length           75412 non-null  object\n",
      " 3   emp_title            74982 non-null  object\n",
      " 4   grade                80000 non-null  object\n",
      " 5   home_ownership       80000 non-null  object\n",
      " 6   application_type     80000 non-null  object\n",
      " 7   initial_list_status  80000 non-null  object\n",
      " 8   purpose              80000 non-null  object\n",
      " 9   sub_grade            80000 non-null  object\n",
      " 10  term                 80000 non-null  object\n",
      " 11  title                79030 non-null  object\n",
      " 12  verification_status  80000 non-null  object\n",
      " 13  loan_status          80000 non-null  object\n",
      "dtypes: object(14)\n",
      "memory usage: 8.5+ MB\n"
     ]
    }
   ],
   "source": [
    "categorical_data.info()"
   ]
  },
  {
   "cell_type": "code",
   "execution_count": 46,
   "metadata": {},
   "outputs": [
    {
     "data": {
      "text/plain": [
       "addr_state                0\n",
       "earliest_cr_line          0\n",
       "emp_length             4588\n",
       "emp_title              5018\n",
       "grade                     0\n",
       "home_ownership            0\n",
       "application_type          0\n",
       "initial_list_status       0\n",
       "purpose                   0\n",
       "sub_grade                 0\n",
       "term                      0\n",
       "title                   970\n",
       "verification_status       0\n",
       "loan_status               0\n",
       "dtype: int64"
      ]
     },
     "execution_count": 46,
     "metadata": {},
     "output_type": "execute_result"
    }
   ],
   "source": [
    "categorical_data.isna().sum()"
   ]
  },
  {
   "cell_type": "code",
   "execution_count": 47,
   "metadata": {},
   "outputs": [],
   "source": [
    "clone_categorical_data = categorical_data.copy()"
   ]
  },
  {
   "cell_type": "code",
   "execution_count": 48,
   "metadata": {},
   "outputs": [
    {
     "data": {
      "text/plain": [
       "Index(['addr_state', 'earliest_cr_line', 'emp_length', 'emp_title', 'grade',\n",
       "       'home_ownership', 'application_type', 'initial_list_status', 'purpose',\n",
       "       'sub_grade', 'term', 'title', 'verification_status', 'loan_status'],\n",
       "      dtype='object')"
      ]
     },
     "execution_count": 48,
     "metadata": {},
     "output_type": "execute_result"
    }
   ],
   "source": [
    "categorical_data.columns"
   ]
  },
  {
   "cell_type": "code",
   "execution_count": 49,
   "metadata": {},
   "outputs": [],
   "source": [
    "imputer = SimpleImputer(strategy='most_frequent')\n",
    "imputer.fit(clone_categorical_data[categorical_data.columns])\n",
    "imputed_categorical_data = imputer.fit_transform(clone_categorical_data[categorical_data.columns])"
   ]
  },
  {
   "cell_type": "code",
   "execution_count": 50,
   "metadata": {},
   "outputs": [
    {
     "data": {
      "text/plain": [
       "array([['CO', 'Jul-1997', '10+ years', ..., 'Debt consolidation',\n",
       "        'Source Verified', 'Charged Off'],\n",
       "       ['CA', 'Apr-1987', '10+ years', ..., 'Credit Loan', 'Verified',\n",
       "        'Fully Paid'],\n",
       "       ['FL', 'Aug-2007', '10+ years', ..., 'Debt consolidation',\n",
       "        'Source Verified', 'Fully Paid'],\n",
       "       ...,\n",
       "       ['NY', 'Apr-2005', '< 1 year', ..., 'Debt consolidation',\n",
       "        'Source Verified', 'Fully Paid'],\n",
       "       ['TX', 'Apr-1992', '3 years', ..., 'Credit card refinancing',\n",
       "        'Source Verified', 'Fully Paid'],\n",
       "       ['NY', 'Jun-1999', '2 years', ..., 'Debt consolidation',\n",
       "        'Source Verified', 'Fully Paid']], dtype=object)"
      ]
     },
     "execution_count": 50,
     "metadata": {},
     "output_type": "execute_result"
    }
   ],
   "source": [
    "imputed_categorical_data"
   ]
  },
  {
   "cell_type": "code",
   "execution_count": 51,
   "metadata": {},
   "outputs": [],
   "source": [
    "imputed_categorical_dataframe = pd.DataFrame(imputed_categorical_data,columns=categorical_data.columns)"
   ]
  },
  {
   "cell_type": "code",
   "execution_count": 52,
   "metadata": {},
   "outputs": [
    {
     "data": {
      "text/html": [
       "<div>\n",
       "<style scoped>\n",
       "    .dataframe tbody tr th:only-of-type {\n",
       "        vertical-align: middle;\n",
       "    }\n",
       "\n",
       "    .dataframe tbody tr th {\n",
       "        vertical-align: top;\n",
       "    }\n",
       "\n",
       "    .dataframe thead th {\n",
       "        text-align: right;\n",
       "    }\n",
       "</style>\n",
       "<table border=\"1\" class=\"dataframe\">\n",
       "  <thead>\n",
       "    <tr style=\"text-align: right;\">\n",
       "      <th></th>\n",
       "      <th>addr_state</th>\n",
       "      <th>earliest_cr_line</th>\n",
       "      <th>emp_length</th>\n",
       "      <th>emp_title</th>\n",
       "      <th>grade</th>\n",
       "      <th>home_ownership</th>\n",
       "      <th>application_type</th>\n",
       "      <th>initial_list_status</th>\n",
       "      <th>purpose</th>\n",
       "      <th>sub_grade</th>\n",
       "      <th>term</th>\n",
       "      <th>title</th>\n",
       "      <th>verification_status</th>\n",
       "      <th>loan_status</th>\n",
       "    </tr>\n",
       "  </thead>\n",
       "  <tbody>\n",
       "    <tr>\n",
       "      <th>0</th>\n",
       "      <td>CO</td>\n",
       "      <td>Jul-1997</td>\n",
       "      <td>10+ years</td>\n",
       "      <td>Deputy</td>\n",
       "      <td>E</td>\n",
       "      <td>MORTGAGE</td>\n",
       "      <td>Individual</td>\n",
       "      <td>w</td>\n",
       "      <td>debt_consolidation</td>\n",
       "      <td>E1</td>\n",
       "      <td>60 months</td>\n",
       "      <td>Debt consolidation</td>\n",
       "      <td>Source Verified</td>\n",
       "      <td>Charged Off</td>\n",
       "    </tr>\n",
       "    <tr>\n",
       "      <th>1</th>\n",
       "      <td>CA</td>\n",
       "      <td>Apr-1987</td>\n",
       "      <td>10+ years</td>\n",
       "      <td>Department of Veterans Affairs</td>\n",
       "      <td>B</td>\n",
       "      <td>RENT</td>\n",
       "      <td>Individual</td>\n",
       "      <td>w</td>\n",
       "      <td>debt_consolidation</td>\n",
       "      <td>B1</td>\n",
       "      <td>36 months</td>\n",
       "      <td>Credit Loan</td>\n",
       "      <td>Verified</td>\n",
       "      <td>Fully Paid</td>\n",
       "    </tr>\n",
       "    <tr>\n",
       "      <th>2</th>\n",
       "      <td>FL</td>\n",
       "      <td>Aug-2007</td>\n",
       "      <td>10+ years</td>\n",
       "      <td>Marble polishing</td>\n",
       "      <td>B</td>\n",
       "      <td>MORTGAGE</td>\n",
       "      <td>Individual</td>\n",
       "      <td>w</td>\n",
       "      <td>debt_consolidation</td>\n",
       "      <td>B5</td>\n",
       "      <td>36 months</td>\n",
       "      <td>Debt consolidation</td>\n",
       "      <td>Source Verified</td>\n",
       "      <td>Fully Paid</td>\n",
       "    </tr>\n",
       "    <tr>\n",
       "      <th>3</th>\n",
       "      <td>IL</td>\n",
       "      <td>Sep-1980</td>\n",
       "      <td>10+ years</td>\n",
       "      <td>printer</td>\n",
       "      <td>B</td>\n",
       "      <td>MORTGAGE</td>\n",
       "      <td>Individual</td>\n",
       "      <td>w</td>\n",
       "      <td>debt_consolidation</td>\n",
       "      <td>B2</td>\n",
       "      <td>36 months</td>\n",
       "      <td>Debt consolidation</td>\n",
       "      <td>Source Verified</td>\n",
       "      <td>Fully Paid</td>\n",
       "    </tr>\n",
       "    <tr>\n",
       "      <th>4</th>\n",
       "      <td>MD</td>\n",
       "      <td>Jul-1999</td>\n",
       "      <td>10+ years</td>\n",
       "      <td>Southern Mgmt</td>\n",
       "      <td>F</td>\n",
       "      <td>RENT</td>\n",
       "      <td>Individual</td>\n",
       "      <td>f</td>\n",
       "      <td>debt_consolidation</td>\n",
       "      <td>F5</td>\n",
       "      <td>60 months</td>\n",
       "      <td>Debt Connsolidation</td>\n",
       "      <td>Verified</td>\n",
       "      <td>Fully Paid</td>\n",
       "    </tr>\n",
       "    <tr>\n",
       "      <th>...</th>\n",
       "      <td>...</td>\n",
       "      <td>...</td>\n",
       "      <td>...</td>\n",
       "      <td>...</td>\n",
       "      <td>...</td>\n",
       "      <td>...</td>\n",
       "      <td>...</td>\n",
       "      <td>...</td>\n",
       "      <td>...</td>\n",
       "      <td>...</td>\n",
       "      <td>...</td>\n",
       "      <td>...</td>\n",
       "      <td>...</td>\n",
       "      <td>...</td>\n",
       "    </tr>\n",
       "    <tr>\n",
       "      <th>79995</th>\n",
       "      <td>SC</td>\n",
       "      <td>Feb-2000</td>\n",
       "      <td>10+ years</td>\n",
       "      <td>Sports Group Manager</td>\n",
       "      <td>G</td>\n",
       "      <td>MORTGAGE</td>\n",
       "      <td>Individual</td>\n",
       "      <td>w</td>\n",
       "      <td>debt_consolidation</td>\n",
       "      <td>G3</td>\n",
       "      <td>60 months</td>\n",
       "      <td>Debt consolidation</td>\n",
       "      <td>Verified</td>\n",
       "      <td>Charged Off</td>\n",
       "    </tr>\n",
       "    <tr>\n",
       "      <th>79996</th>\n",
       "      <td>NH</td>\n",
       "      <td>Aug-1995</td>\n",
       "      <td>10+ years</td>\n",
       "      <td>Web Designer</td>\n",
       "      <td>C</td>\n",
       "      <td>MORTGAGE</td>\n",
       "      <td>Individual</td>\n",
       "      <td>w</td>\n",
       "      <td>debt_consolidation</td>\n",
       "      <td>C1</td>\n",
       "      <td>36 months</td>\n",
       "      <td>Debt consolidation</td>\n",
       "      <td>Not Verified</td>\n",
       "      <td>Fully Paid</td>\n",
       "    </tr>\n",
       "    <tr>\n",
       "      <th>79997</th>\n",
       "      <td>NY</td>\n",
       "      <td>Apr-2005</td>\n",
       "      <td>&lt; 1 year</td>\n",
       "      <td>Program Officer</td>\n",
       "      <td>B</td>\n",
       "      <td>OWN</td>\n",
       "      <td>Individual</td>\n",
       "      <td>w</td>\n",
       "      <td>debt_consolidation</td>\n",
       "      <td>B4</td>\n",
       "      <td>36 months</td>\n",
       "      <td>Debt consolidation</td>\n",
       "      <td>Source Verified</td>\n",
       "      <td>Fully Paid</td>\n",
       "    </tr>\n",
       "    <tr>\n",
       "      <th>79998</th>\n",
       "      <td>TX</td>\n",
       "      <td>Apr-1992</td>\n",
       "      <td>3 years</td>\n",
       "      <td>Sr. Business Analyst</td>\n",
       "      <td>D</td>\n",
       "      <td>MORTGAGE</td>\n",
       "      <td>Individual</td>\n",
       "      <td>w</td>\n",
       "      <td>credit_card</td>\n",
       "      <td>D5</td>\n",
       "      <td>60 months</td>\n",
       "      <td>Credit card refinancing</td>\n",
       "      <td>Source Verified</td>\n",
       "      <td>Fully Paid</td>\n",
       "    </tr>\n",
       "    <tr>\n",
       "      <th>79999</th>\n",
       "      <td>NY</td>\n",
       "      <td>Jun-1999</td>\n",
       "      <td>2 years</td>\n",
       "      <td>Managing Director</td>\n",
       "      <td>B</td>\n",
       "      <td>MORTGAGE</td>\n",
       "      <td>Individual</td>\n",
       "      <td>w</td>\n",
       "      <td>debt_consolidation</td>\n",
       "      <td>B4</td>\n",
       "      <td>36 months</td>\n",
       "      <td>Debt consolidation</td>\n",
       "      <td>Source Verified</td>\n",
       "      <td>Fully Paid</td>\n",
       "    </tr>\n",
       "  </tbody>\n",
       "</table>\n",
       "<p>80000 rows × 14 columns</p>\n",
       "</div>"
      ],
      "text/plain": [
       "      addr_state earliest_cr_line emp_length                       emp_title  \\\n",
       "0             CO         Jul-1997  10+ years                          Deputy   \n",
       "1             CA         Apr-1987  10+ years  Department of Veterans Affairs   \n",
       "2             FL         Aug-2007  10+ years                Marble polishing   \n",
       "3             IL         Sep-1980  10+ years                         printer   \n",
       "4             MD         Jul-1999  10+ years                   Southern Mgmt   \n",
       "...          ...              ...        ...                             ...   \n",
       "79995         SC         Feb-2000  10+ years            Sports Group Manager   \n",
       "79996         NH         Aug-1995  10+ years                    Web Designer   \n",
       "79997         NY         Apr-2005   < 1 year                 Program Officer   \n",
       "79998         TX         Apr-1992    3 years            Sr. Business Analyst   \n",
       "79999         NY         Jun-1999    2 years               Managing Director   \n",
       "\n",
       "      grade home_ownership application_type initial_list_status  \\\n",
       "0         E       MORTGAGE       Individual                   w   \n",
       "1         B           RENT       Individual                   w   \n",
       "2         B       MORTGAGE       Individual                   w   \n",
       "3         B       MORTGAGE       Individual                   w   \n",
       "4         F           RENT       Individual                   f   \n",
       "...     ...            ...              ...                 ...   \n",
       "79995     G       MORTGAGE       Individual                   w   \n",
       "79996     C       MORTGAGE       Individual                   w   \n",
       "79997     B            OWN       Individual                   w   \n",
       "79998     D       MORTGAGE       Individual                   w   \n",
       "79999     B       MORTGAGE       Individual                   w   \n",
       "\n",
       "                  purpose sub_grade        term                    title  \\\n",
       "0      debt_consolidation        E1   60 months       Debt consolidation   \n",
       "1      debt_consolidation        B1   36 months              Credit Loan   \n",
       "2      debt_consolidation        B5   36 months       Debt consolidation   \n",
       "3      debt_consolidation        B2   36 months       Debt consolidation   \n",
       "4      debt_consolidation        F5   60 months      Debt Connsolidation   \n",
       "...                   ...       ...         ...                      ...   \n",
       "79995  debt_consolidation        G3   60 months       Debt consolidation   \n",
       "79996  debt_consolidation        C1   36 months       Debt consolidation   \n",
       "79997  debt_consolidation        B4   36 months       Debt consolidation   \n",
       "79998         credit_card        D5   60 months  Credit card refinancing   \n",
       "79999  debt_consolidation        B4   36 months       Debt consolidation   \n",
       "\n",
       "      verification_status  loan_status  \n",
       "0         Source Verified  Charged Off  \n",
       "1                Verified   Fully Paid  \n",
       "2         Source Verified   Fully Paid  \n",
       "3         Source Verified   Fully Paid  \n",
       "4                Verified   Fully Paid  \n",
       "...                   ...          ...  \n",
       "79995            Verified  Charged Off  \n",
       "79996        Not Verified   Fully Paid  \n",
       "79997     Source Verified   Fully Paid  \n",
       "79998     Source Verified   Fully Paid  \n",
       "79999     Source Verified   Fully Paid  \n",
       "\n",
       "[80000 rows x 14 columns]"
      ]
     },
     "execution_count": 52,
     "metadata": {},
     "output_type": "execute_result"
    }
   ],
   "source": [
    "imputed_categorical_dataframe"
   ]
  },
  {
   "cell_type": "code",
   "execution_count": 53,
   "metadata": {},
   "outputs": [
    {
     "name": "stdout",
     "output_type": "stream",
     "text": [
      "<class 'pandas.core.frame.DataFrame'>\n",
      "RangeIndex: 80000 entries, 0 to 79999\n",
      "Data columns (total 14 columns):\n",
      " #   Column               Non-Null Count  Dtype \n",
      "---  ------               --------------  ----- \n",
      " 0   addr_state           80000 non-null  object\n",
      " 1   earliest_cr_line     80000 non-null  object\n",
      " 2   emp_length           80000 non-null  object\n",
      " 3   emp_title            80000 non-null  object\n",
      " 4   grade                80000 non-null  object\n",
      " 5   home_ownership       80000 non-null  object\n",
      " 6   application_type     80000 non-null  object\n",
      " 7   initial_list_status  80000 non-null  object\n",
      " 8   purpose              80000 non-null  object\n",
      " 9   sub_grade            80000 non-null  object\n",
      " 10  term                 80000 non-null  object\n",
      " 11  title                80000 non-null  object\n",
      " 12  verification_status  80000 non-null  object\n",
      " 13  loan_status          80000 non-null  object\n",
      "dtypes: object(14)\n",
      "memory usage: 8.5+ MB\n",
      "<class 'pandas.core.frame.DataFrame'>\n",
      "RangeIndex: 80000 entries, 0 to 79999\n",
      "Data columns (total 14 columns):\n",
      " #   Column               Non-Null Count  Dtype \n",
      "---  ------               --------------  ----- \n",
      " 0   addr_state           80000 non-null  object\n",
      " 1   earliest_cr_line     80000 non-null  object\n",
      " 2   emp_length           75412 non-null  object\n",
      " 3   emp_title            74982 non-null  object\n",
      " 4   grade                80000 non-null  object\n",
      " 5   home_ownership       80000 non-null  object\n",
      " 6   application_type     80000 non-null  object\n",
      " 7   initial_list_status  80000 non-null  object\n",
      " 8   purpose              80000 non-null  object\n",
      " 9   sub_grade            80000 non-null  object\n",
      " 10  term                 80000 non-null  object\n",
      " 11  title                79030 non-null  object\n",
      " 12  verification_status  80000 non-null  object\n",
      " 13  loan_status          80000 non-null  object\n",
      "dtypes: object(14)\n",
      "memory usage: 8.5+ MB\n"
     ]
    }
   ],
   "source": [
    "imputed_categorical_dataframe.info()\n",
    "categorical_data.info()"
   ]
  },
  {
   "cell_type": "code",
   "execution_count": 54,
   "metadata": {},
   "outputs": [
    {
     "data": {
      "text/plain": [
       "addr_state             0\n",
       "earliest_cr_line       0\n",
       "emp_length             0\n",
       "emp_title              0\n",
       "grade                  0\n",
       "home_ownership         0\n",
       "application_type       0\n",
       "initial_list_status    0\n",
       "purpose                0\n",
       "sub_grade              0\n",
       "term                   0\n",
       "title                  0\n",
       "verification_status    0\n",
       "loan_status            0\n",
       "dtype: int64"
      ]
     },
     "execution_count": 54,
     "metadata": {},
     "output_type": "execute_result"
    }
   ],
   "source": [
    "imputed_categorical_dataframe.isna().sum()"
   ]
  },
  {
   "cell_type": "code",
   "execution_count": 66,
   "metadata": {},
   "outputs": [],
   "source": [
    "onehotencoder = OneHotEncoder()"
   ]
  },
  {
   "cell_type": "code",
   "execution_count": 67,
   "metadata": {},
   "outputs": [],
   "source": [
    " X = onehotencoder.fit_transform(imputed_categorical_dataframe.values.reshape(-1,1))"
   ]
  },
  {
   "cell_type": "code",
   "execution_count": 68,
   "metadata": {},
   "outputs": [
    {
     "name": "stdout",
     "output_type": "stream",
     "text": [
      "<class 'pandas.core.frame.DataFrame'>\n",
      "RangeIndex: 1120000 entries, 0 to 1119999\n",
      "Data columns (total 1 columns):\n",
      " #   Column  Non-Null Count    Dtype \n",
      "---  ------  --------------    ----- \n",
      " 0   0       1120000 non-null  object\n",
      "dtypes: object(1)\n",
      "memory usage: 8.5+ MB\n"
     ]
    }
   ],
   "source": [
    "pd.DataFrame(X).info()"
   ]
  },
  {
   "cell_type": "code",
   "execution_count": 265,
   "metadata": {},
   "outputs": [],
   "source": [
    "# class CustomTransformer(BaseEstimator, TransformerMixin):\n",
    "#     def __init__(self,strategy):\n",
    "#         self.strategy = strategy\n",
    "        \n",
    "#     def fit(self, X):\n",
    "#         self.imputer = SimpleImputer(missing_values=np.nan, strategy=self.strategy)\n",
    "#         self.imputer.fit(X)\n",
    "#         return self\n",
    "    \n",
    "#     def transform(self, X):\n",
    "#         return self.imputer.transform(X)\n",
    "    "
   ]
  },
  {
   "cell_type": "markdown",
   "metadata": {},
   "source": [
    "### 4. Imputation  5. Standardization  6. Encodings"
   ]
  },
  {
   "cell_type": "code",
   "execution_count": 145,
   "metadata": {},
   "outputs": [],
   "source": [
    "numerical_imputer = Pipeline([\n",
    "    ('imputation', SimpleImputer(strategy='mean')),\n",
    "    ('scale', MinMaxScaler())\n",
    "])\n",
    "\n",
    "categorical_imputer = Pipeline([\n",
    "    ('imputation', SimpleImputer(strategy='most_frequent')),\n",
    "    ('label', OneHotEncoder(sparse=False, handle_unknown='ignore'))\n",
    "])"
   ]
  },
  {
   "cell_type": "code",
   "execution_count": 146,
   "metadata": {},
   "outputs": [],
   "source": [
    "\n",
    "preprocess_full = ColumnTransformer(\n",
    "    transformers=\n",
    "    [\n",
    "        ('numerical_preprocessing',numerical_imputer,numerical_data.columns),\n",
    "        ('categorical_preprocessing',categorical_imputer,categorical_data.columns)\n",
    "    ]\n",
    ")\n",
    "\n"
   ]
  },
  {
   "cell_type": "markdown",
   "metadata": {},
   "source": [
    "### 7. Pipeline"
   ]
  },
  {
   "cell_type": "code",
   "execution_count": 147,
   "metadata": {},
   "outputs": [],
   "source": [
    "pipe = Pipeline([\n",
    "         ('preprocess',preprocess_full),\n",
    "         ('model',LogisticRegression())])\n",
    "\n"
   ]
  },
  {
   "cell_type": "markdown",
   "metadata": {},
   "source": [
    "### 8. Models"
   ]
  },
  {
   "cell_type": "code",
   "execution_count": 148,
   "metadata": {},
   "outputs": [
    {
     "data": {
      "text/html": [
       "<style>div.sk-top-container {color: black;background-color: white;}div.sk-toggleable {background-color: white;}label.sk-toggleable__label {cursor: pointer;display: block;width: 100%;margin-bottom: 0;padding: 0.2em 0.3em;box-sizing: border-box;text-align: center;}div.sk-toggleable__content {max-height: 0;max-width: 0;overflow: hidden;text-align: left;background-color: #f0f8ff;}div.sk-toggleable__content pre {margin: 0.2em;color: black;border-radius: 0.25em;background-color: #f0f8ff;}input.sk-toggleable__control:checked~div.sk-toggleable__content {max-height: 200px;max-width: 100%;overflow: auto;}div.sk-estimator input.sk-toggleable__control:checked~label.sk-toggleable__label {background-color: #d4ebff;}div.sk-label input.sk-toggleable__control:checked~label.sk-toggleable__label {background-color: #d4ebff;}input.sk-hidden--visually {border: 0;clip: rect(1px 1px 1px 1px);clip: rect(1px, 1px, 1px, 1px);height: 1px;margin: -1px;overflow: hidden;padding: 0;position: absolute;width: 1px;}div.sk-estimator {font-family: monospace;background-color: #f0f8ff;margin: 0.25em 0.25em;border: 1px dotted black;border-radius: 0.25em;box-sizing: border-box;}div.sk-estimator:hover {background-color: #d4ebff;}div.sk-parallel-item::after {content: \"\";width: 100%;border-bottom: 1px solid gray;flex-grow: 1;}div.sk-label:hover label.sk-toggleable__label {background-color: #d4ebff;}div.sk-serial::before {content: \"\";position: absolute;border-left: 1px solid gray;box-sizing: border-box;top: 2em;bottom: 0;left: 50%;}div.sk-serial {display: flex;flex-direction: column;align-items: center;background-color: white;}div.sk-item {z-index: 1;}div.sk-parallel {display: flex;align-items: stretch;justify-content: center;background-color: white;}div.sk-parallel-item {display: flex;flex-direction: column;position: relative;background-color: white;}div.sk-parallel-item:first-child::after {align-self: flex-end;width: 50%;}div.sk-parallel-item:last-child::after {align-self: flex-start;width: 50%;}div.sk-parallel-item:only-child::after {width: 0;}div.sk-dashed-wrapped {border: 1px dashed gray;margin: 0.2em;box-sizing: border-box;padding-bottom: 0.1em;background-color: white;position: relative;}div.sk-label label {font-family: monospace;font-weight: bold;background-color: white;display: inline-block;line-height: 1.2em;}div.sk-label-container {position: relative;z-index: 2;text-align: center;}div.sk-container {display: inline-block;position: relative;}</style><div class=\"sk-top-container\"><div class=\"sk-container\"><div class=\"sk-item sk-dashed-wrapped\"><div class=\"sk-label-container\"><div class=\"sk-label sk-toggleable\"><input class=\"sk-toggleable__control sk-hidden--visually\" id=\"af7dff61-d2bd-4cb4-bf88-6e372ee6c1dd\" type=\"checkbox\" ><label class=\"sk-toggleable__label\" for=\"af7dff61-d2bd-4cb4-bf88-6e372ee6c1dd\">Pipeline</label><div class=\"sk-toggleable__content\"><pre>Pipeline(steps=[('preprocess',\n",
       "                 ColumnTransformer(transformers=[('numerical_preprocessing',\n",
       "                                                  Pipeline(steps=[('imputation',\n",
       "                                                                   SimpleImputer()),\n",
       "                                                                  ('scale',\n",
       "                                                                   MinMaxScaler())]),\n",
       "                                                  Index(['annual_inc', 'fico_range_high', 'fico_range_low', 'int_rate',\n",
       "       'loan_amnt', 'num_actv_bc_tl', 'mort_acc', 'tot_cur_bal', 'open_acc',\n",
       "       'pub_rec', 'pub_rec_bankruptcies', 'revol_bal', 'revol_util...\n",
       "                                                                   SimpleImputer(strategy='most_frequent')),\n",
       "                                                                  ('label',\n",
       "                                                                   OneHotEncoder(handle_unknown='ignore',\n",
       "                                                                                 sparse=False))]),\n",
       "                                                  Index(['addr_state', 'earliest_cr_line', 'emp_length', 'emp_title', 'grade',\n",
       "       'home_ownership', 'application_type', 'initial_list_status', 'purpose',\n",
       "       'sub_grade', 'term', 'title', 'verification_status', 'loan_status'],\n",
       "      dtype='object'))])),\n",
       "                ('model', LogisticRegression())])</pre></div></div></div><div class=\"sk-serial\"><div class=\"sk-item sk-dashed-wrapped\"><div class=\"sk-label-container\"><div class=\"sk-label sk-toggleable\"><input class=\"sk-toggleable__control sk-hidden--visually\" id=\"775e20f6-6356-4ccd-b92c-05d7324e3d55\" type=\"checkbox\" ><label class=\"sk-toggleable__label\" for=\"775e20f6-6356-4ccd-b92c-05d7324e3d55\">preprocess: ColumnTransformer</label><div class=\"sk-toggleable__content\"><pre>ColumnTransformer(transformers=[('numerical_preprocessing',\n",
       "                                 Pipeline(steps=[('imputation',\n",
       "                                                  SimpleImputer()),\n",
       "                                                 ('scale', MinMaxScaler())]),\n",
       "                                 Index(['annual_inc', 'fico_range_high', 'fico_range_low', 'int_rate',\n",
       "       'loan_amnt', 'num_actv_bc_tl', 'mort_acc', 'tot_cur_bal', 'open_acc',\n",
       "       'pub_rec', 'pub_rec_bankruptcies', 'revol_bal', 'revol_util',\n",
       "       'total_acc'],\n",
       "      dtype='object')...\n",
       "                                 Pipeline(steps=[('imputation',\n",
       "                                                  SimpleImputer(strategy='most_frequent')),\n",
       "                                                 ('label',\n",
       "                                                  OneHotEncoder(handle_unknown='ignore',\n",
       "                                                                sparse=False))]),\n",
       "                                 Index(['addr_state', 'earliest_cr_line', 'emp_length', 'emp_title', 'grade',\n",
       "       'home_ownership', 'application_type', 'initial_list_status', 'purpose',\n",
       "       'sub_grade', 'term', 'title', 'verification_status', 'loan_status'],\n",
       "      dtype='object'))])</pre></div></div></div><div class=\"sk-parallel\"><div class=\"sk-parallel-item\"><div class=\"sk-item\"><div class=\"sk-label-container\"><div class=\"sk-label sk-toggleable\"><input class=\"sk-toggleable__control sk-hidden--visually\" id=\"fb795785-e164-4ed5-8a8a-bb13da09ede8\" type=\"checkbox\" ><label class=\"sk-toggleable__label\" for=\"fb795785-e164-4ed5-8a8a-bb13da09ede8\">numerical_preprocessing</label><div class=\"sk-toggleable__content\"><pre>Index(['annual_inc', 'fico_range_high', 'fico_range_low', 'int_rate',\n",
       "       'loan_amnt', 'num_actv_bc_tl', 'mort_acc', 'tot_cur_bal', 'open_acc',\n",
       "       'pub_rec', 'pub_rec_bankruptcies', 'revol_bal', 'revol_util',\n",
       "       'total_acc'],\n",
       "      dtype='object')</pre></div></div></div><div class=\"sk-serial\"><div class=\"sk-item\"><div class=\"sk-serial\"><div class=\"sk-item\"><div class=\"sk-estimator sk-toggleable\"><input class=\"sk-toggleable__control sk-hidden--visually\" id=\"8ec26493-f9b7-4101-8458-2b218a40697d\" type=\"checkbox\" ><label class=\"sk-toggleable__label\" for=\"8ec26493-f9b7-4101-8458-2b218a40697d\">SimpleImputer</label><div class=\"sk-toggleable__content\"><pre>SimpleImputer()</pre></div></div></div><div class=\"sk-item\"><div class=\"sk-estimator sk-toggleable\"><input class=\"sk-toggleable__control sk-hidden--visually\" id=\"883232f7-3703-4f5e-91e7-d82d2713a17d\" type=\"checkbox\" ><label class=\"sk-toggleable__label\" for=\"883232f7-3703-4f5e-91e7-d82d2713a17d\">MinMaxScaler</label><div class=\"sk-toggleable__content\"><pre>MinMaxScaler()</pre></div></div></div></div></div></div></div></div><div class=\"sk-parallel-item\"><div class=\"sk-item\"><div class=\"sk-label-container\"><div class=\"sk-label sk-toggleable\"><input class=\"sk-toggleable__control sk-hidden--visually\" id=\"0c5f1bf4-181c-4b2e-8eda-6d507a0d6ab1\" type=\"checkbox\" ><label class=\"sk-toggleable__label\" for=\"0c5f1bf4-181c-4b2e-8eda-6d507a0d6ab1\">categorical_preprocessing</label><div class=\"sk-toggleable__content\"><pre>Index(['addr_state', 'earliest_cr_line', 'emp_length', 'emp_title', 'grade',\n",
       "       'home_ownership', 'application_type', 'initial_list_status', 'purpose',\n",
       "       'sub_grade', 'term', 'title', 'verification_status', 'loan_status'],\n",
       "      dtype='object')</pre></div></div></div><div class=\"sk-serial\"><div class=\"sk-item\"><div class=\"sk-serial\"><div class=\"sk-item\"><div class=\"sk-estimator sk-toggleable\"><input class=\"sk-toggleable__control sk-hidden--visually\" id=\"4bc5889b-11f9-4755-9c56-c2f1a3181e1f\" type=\"checkbox\" ><label class=\"sk-toggleable__label\" for=\"4bc5889b-11f9-4755-9c56-c2f1a3181e1f\">SimpleImputer</label><div class=\"sk-toggleable__content\"><pre>SimpleImputer(strategy='most_frequent')</pre></div></div></div><div class=\"sk-item\"><div class=\"sk-estimator sk-toggleable\"><input class=\"sk-toggleable__control sk-hidden--visually\" id=\"f4515ef4-7797-4ae0-a080-bd5e285601c1\" type=\"checkbox\" ><label class=\"sk-toggleable__label\" for=\"f4515ef4-7797-4ae0-a080-bd5e285601c1\">OneHotEncoder</label><div class=\"sk-toggleable__content\"><pre>OneHotEncoder(handle_unknown='ignore', sparse=False)</pre></div></div></div></div></div></div></div></div></div></div><div class=\"sk-item\"><div class=\"sk-estimator sk-toggleable\"><input class=\"sk-toggleable__control sk-hidden--visually\" id=\"08a3a4ef-4b4b-438b-bd7c-6f5d0da1ec82\" type=\"checkbox\" ><label class=\"sk-toggleable__label\" for=\"08a3a4ef-4b4b-438b-bd7c-6f5d0da1ec82\">LogisticRegression</label><div class=\"sk-toggleable__content\"><pre>LogisticRegression()</pre></div></div></div></div></div></div></div>"
      ],
      "text/plain": [
       "Pipeline(steps=[('preprocess',\n",
       "                 ColumnTransformer(transformers=[('numerical_preprocessing',\n",
       "                                                  Pipeline(steps=[('imputation',\n",
       "                                                                   SimpleImputer()),\n",
       "                                                                  ('scale',\n",
       "                                                                   MinMaxScaler())]),\n",
       "                                                  Index(['annual_inc', 'fico_range_high', 'fico_range_low', 'int_rate',\n",
       "       'loan_amnt', 'num_actv_bc_tl', 'mort_acc', 'tot_cur_bal', 'open_acc',\n",
       "       'pub_rec', 'pub_rec_bankruptcies', 'revol_bal', 'revol_util...\n",
       "                                                                   SimpleImputer(strategy='most_frequent')),\n",
       "                                                                  ('label',\n",
       "                                                                   OneHotEncoder(handle_unknown='ignore',\n",
       "                                                                                 sparse=False))]),\n",
       "                                                  Index(['addr_state', 'earliest_cr_line', 'emp_length', 'emp_title', 'grade',\n",
       "       'home_ownership', 'application_type', 'initial_list_status', 'purpose',\n",
       "       'sub_grade', 'term', 'title', 'verification_status', 'loan_status'],\n",
       "      dtype='object'))])),\n",
       "                ('model', LogisticRegression())])"
      ]
     },
     "metadata": {},
     "output_type": "display_data"
    }
   ],
   "source": [
    "from sklearn import set_config\n",
    "set_config(display='diagram')  \n",
    "display(pipe)"
   ]
  },
  {
   "cell_type": "code",
   "execution_count": null,
   "metadata": {},
   "outputs": [],
   "source": [
    "filled = preprocess_full.fit_transform(data)"
   ]
  },
  {
   "cell_type": "code",
   "execution_count": null,
   "metadata": {},
   "outputs": [],
   "source": [
    "filled."
   ]
  },
  {
   "cell_type": "code",
   "execution_count": 59,
   "metadata": {},
   "outputs": [
    {
     "name": "stdout",
     "output_type": "stream",
     "text": [
      "<class 'pandas.core.frame.DataFrame'>\n",
      "RangeIndex: 80000 entries, 0 to 79999\n",
      "Data columns (total 28 columns):\n",
      " #   Column                Non-Null Count  Dtype \n",
      "---  ------                --------------  ----- \n",
      " 0   addr_state            80000 non-null  object\n",
      " 1   annual_inc            80000 non-null  object\n",
      " 2   earliest_cr_line      80000 non-null  object\n",
      " 3   emp_length            80000 non-null  object\n",
      " 4   emp_title             80000 non-null  object\n",
      " 5   fico_range_high       80000 non-null  object\n",
      " 6   fico_range_low        80000 non-null  object\n",
      " 7   grade                 80000 non-null  object\n",
      " 8   home_ownership        80000 non-null  object\n",
      " 9   application_type      80000 non-null  object\n",
      " 10  initial_list_status   80000 non-null  object\n",
      " 11  int_rate              80000 non-null  object\n",
      " 12  loan_amnt             80000 non-null  object\n",
      " 13  num_actv_bc_tl        80000 non-null  object\n",
      " 14  mort_acc              80000 non-null  object\n",
      " 15  tot_cur_bal           80000 non-null  object\n",
      " 16  open_acc              80000 non-null  object\n",
      " 17  pub_rec               80000 non-null  object\n",
      " 18  pub_rec_bankruptcies  80000 non-null  object\n",
      " 19  purpose               80000 non-null  object\n",
      " 20  revol_bal             80000 non-null  object\n",
      " 21  revol_util            80000 non-null  object\n",
      " 22  sub_grade             80000 non-null  object\n",
      " 23  term                  80000 non-null  object\n",
      " 24  title                 80000 non-null  object\n",
      " 25  total_acc             80000 non-null  object\n",
      " 26  verification_status   80000 non-null  object\n",
      " 27  loan_status           80000 non-null  object\n",
      "dtypes: object(28)\n",
      "memory usage: 17.1+ MB\n"
     ]
    }
   ],
   "source": [
    "pd.DataFrame(filled,columns=data.columns).info()"
   ]
  },
  {
   "cell_type": "code",
   "execution_count": null,
   "metadata": {},
   "outputs": [],
   "source": [
    "pd.DataFrame(filled,columns=data.columns).info()"
   ]
  },
  {
   "cell_type": "code",
   "execution_count": 56,
   "metadata": {},
   "outputs": [
    {
     "data": {
      "text/plain": [
       "Index(['addr_state', 'annual_inc', 'earliest_cr_line', 'emp_length',\n",
       "       'emp_title', 'fico_range_high', 'fico_range_low', 'grade',\n",
       "       'home_ownership', 'application_type', 'initial_list_status', 'int_rate',\n",
       "       'loan_amnt', 'num_actv_bc_tl', 'mort_acc', 'tot_cur_bal', 'open_acc',\n",
       "       'pub_rec', 'pub_rec_bankruptcies', 'purpose', 'revol_bal', 'revol_util',\n",
       "       'sub_grade', 'term', 'title', 'total_acc', 'verification_status',\n",
       "       'loan_status'],\n",
       "      dtype='object')"
      ]
     },
     "execution_count": 56,
     "metadata": {},
     "output_type": "execute_result"
    }
   ],
   "source": [
    "data.columns"
   ]
  },
  {
   "cell_type": "code",
   "execution_count": null,
   "metadata": {},
   "outputs": [],
   "source": []
  },
  {
   "cell_type": "code",
   "execution_count": null,
   "metadata": {},
   "outputs": [],
   "source": []
  },
  {
   "cell_type": "code",
   "execution_count": 74,
   "metadata": {},
   "outputs": [
    {
     "data": {
      "text/html": [
       "<div>\n",
       "<style scoped>\n",
       "    .dataframe tbody tr th:only-of-type {\n",
       "        vertical-align: middle;\n",
       "    }\n",
       "\n",
       "    .dataframe tbody tr th {\n",
       "        vertical-align: top;\n",
       "    }\n",
       "\n",
       "    .dataframe thead th {\n",
       "        text-align: right;\n",
       "    }\n",
       "</style>\n",
       "<table border=\"1\" class=\"dataframe\">\n",
       "  <thead>\n",
       "    <tr style=\"text-align: right;\">\n",
       "      <th></th>\n",
       "      <th>addr_state</th>\n",
       "      <th>earliest_cr_line</th>\n",
       "      <th>emp_length</th>\n",
       "      <th>emp_title</th>\n",
       "      <th>grade</th>\n",
       "      <th>home_ownership</th>\n",
       "      <th>application_type</th>\n",
       "      <th>initial_list_status</th>\n",
       "      <th>purpose</th>\n",
       "      <th>sub_grade</th>\n",
       "      <th>term</th>\n",
       "      <th>title</th>\n",
       "      <th>verification_status</th>\n",
       "      <th>loan_status</th>\n",
       "    </tr>\n",
       "  </thead>\n",
       "  <tbody>\n",
       "    <tr>\n",
       "      <th>0</th>\n",
       "      <td>CO</td>\n",
       "      <td>Jul-1997</td>\n",
       "      <td>10+ years</td>\n",
       "      <td>Deputy</td>\n",
       "      <td>E</td>\n",
       "      <td>MORTGAGE</td>\n",
       "      <td>Individual</td>\n",
       "      <td>w</td>\n",
       "      <td>debt_consolidation</td>\n",
       "      <td>E1</td>\n",
       "      <td>60 months</td>\n",
       "      <td>Debt consolidation</td>\n",
       "      <td>Source Verified</td>\n",
       "      <td>Charged Off</td>\n",
       "    </tr>\n",
       "    <tr>\n",
       "      <th>1</th>\n",
       "      <td>CA</td>\n",
       "      <td>Apr-1987</td>\n",
       "      <td>10+ years</td>\n",
       "      <td>Department of Veterans Affairs</td>\n",
       "      <td>B</td>\n",
       "      <td>RENT</td>\n",
       "      <td>Individual</td>\n",
       "      <td>w</td>\n",
       "      <td>debt_consolidation</td>\n",
       "      <td>B1</td>\n",
       "      <td>36 months</td>\n",
       "      <td>Credit Loan</td>\n",
       "      <td>Verified</td>\n",
       "      <td>Fully Paid</td>\n",
       "    </tr>\n",
       "    <tr>\n",
       "      <th>2</th>\n",
       "      <td>FL</td>\n",
       "      <td>Aug-2007</td>\n",
       "      <td>10+ years</td>\n",
       "      <td>Marble polishing</td>\n",
       "      <td>B</td>\n",
       "      <td>MORTGAGE</td>\n",
       "      <td>Individual</td>\n",
       "      <td>w</td>\n",
       "      <td>debt_consolidation</td>\n",
       "      <td>B5</td>\n",
       "      <td>36 months</td>\n",
       "      <td>Debt consolidation</td>\n",
       "      <td>Source Verified</td>\n",
       "      <td>Fully Paid</td>\n",
       "    </tr>\n",
       "    <tr>\n",
       "      <th>3</th>\n",
       "      <td>IL</td>\n",
       "      <td>Sep-1980</td>\n",
       "      <td>10+ years</td>\n",
       "      <td>printer</td>\n",
       "      <td>B</td>\n",
       "      <td>MORTGAGE</td>\n",
       "      <td>Individual</td>\n",
       "      <td>w</td>\n",
       "      <td>debt_consolidation</td>\n",
       "      <td>B2</td>\n",
       "      <td>36 months</td>\n",
       "      <td>Debt consolidation</td>\n",
       "      <td>Source Verified</td>\n",
       "      <td>Fully Paid</td>\n",
       "    </tr>\n",
       "    <tr>\n",
       "      <th>4</th>\n",
       "      <td>MD</td>\n",
       "      <td>Jul-1999</td>\n",
       "      <td>10+ years</td>\n",
       "      <td>Southern Mgmt</td>\n",
       "      <td>F</td>\n",
       "      <td>RENT</td>\n",
       "      <td>Individual</td>\n",
       "      <td>f</td>\n",
       "      <td>debt_consolidation</td>\n",
       "      <td>F5</td>\n",
       "      <td>60 months</td>\n",
       "      <td>Debt Connsolidation</td>\n",
       "      <td>Verified</td>\n",
       "      <td>Fully Paid</td>\n",
       "    </tr>\n",
       "    <tr>\n",
       "      <th>...</th>\n",
       "      <td>...</td>\n",
       "      <td>...</td>\n",
       "      <td>...</td>\n",
       "      <td>...</td>\n",
       "      <td>...</td>\n",
       "      <td>...</td>\n",
       "      <td>...</td>\n",
       "      <td>...</td>\n",
       "      <td>...</td>\n",
       "      <td>...</td>\n",
       "      <td>...</td>\n",
       "      <td>...</td>\n",
       "      <td>...</td>\n",
       "      <td>...</td>\n",
       "    </tr>\n",
       "    <tr>\n",
       "      <th>79995</th>\n",
       "      <td>SC</td>\n",
       "      <td>Feb-2000</td>\n",
       "      <td>10+ years</td>\n",
       "      <td>Sports Group Manager</td>\n",
       "      <td>G</td>\n",
       "      <td>MORTGAGE</td>\n",
       "      <td>Individual</td>\n",
       "      <td>w</td>\n",
       "      <td>debt_consolidation</td>\n",
       "      <td>G3</td>\n",
       "      <td>60 months</td>\n",
       "      <td>Debt consolidation</td>\n",
       "      <td>Verified</td>\n",
       "      <td>Charged Off</td>\n",
       "    </tr>\n",
       "    <tr>\n",
       "      <th>79996</th>\n",
       "      <td>NH</td>\n",
       "      <td>Aug-1995</td>\n",
       "      <td>10+ years</td>\n",
       "      <td>Web Designer</td>\n",
       "      <td>C</td>\n",
       "      <td>MORTGAGE</td>\n",
       "      <td>Individual</td>\n",
       "      <td>w</td>\n",
       "      <td>debt_consolidation</td>\n",
       "      <td>C1</td>\n",
       "      <td>36 months</td>\n",
       "      <td>Debt consolidation</td>\n",
       "      <td>Not Verified</td>\n",
       "      <td>Fully Paid</td>\n",
       "    </tr>\n",
       "    <tr>\n",
       "      <th>79997</th>\n",
       "      <td>NY</td>\n",
       "      <td>Apr-2005</td>\n",
       "      <td>&lt; 1 year</td>\n",
       "      <td>Program Officer</td>\n",
       "      <td>B</td>\n",
       "      <td>OWN</td>\n",
       "      <td>Individual</td>\n",
       "      <td>w</td>\n",
       "      <td>debt_consolidation</td>\n",
       "      <td>B4</td>\n",
       "      <td>36 months</td>\n",
       "      <td>Debt consolidation</td>\n",
       "      <td>Source Verified</td>\n",
       "      <td>Fully Paid</td>\n",
       "    </tr>\n",
       "    <tr>\n",
       "      <th>79998</th>\n",
       "      <td>TX</td>\n",
       "      <td>Apr-1992</td>\n",
       "      <td>3 years</td>\n",
       "      <td>Sr. Business Analyst</td>\n",
       "      <td>D</td>\n",
       "      <td>MORTGAGE</td>\n",
       "      <td>Individual</td>\n",
       "      <td>w</td>\n",
       "      <td>credit_card</td>\n",
       "      <td>D5</td>\n",
       "      <td>60 months</td>\n",
       "      <td>Credit card refinancing</td>\n",
       "      <td>Source Verified</td>\n",
       "      <td>Fully Paid</td>\n",
       "    </tr>\n",
       "    <tr>\n",
       "      <th>79999</th>\n",
       "      <td>NY</td>\n",
       "      <td>Jun-1999</td>\n",
       "      <td>2 years</td>\n",
       "      <td>Managing Director</td>\n",
       "      <td>B</td>\n",
       "      <td>MORTGAGE</td>\n",
       "      <td>Individual</td>\n",
       "      <td>w</td>\n",
       "      <td>debt_consolidation</td>\n",
       "      <td>B4</td>\n",
       "      <td>36 months</td>\n",
       "      <td>Debt consolidation</td>\n",
       "      <td>Source Verified</td>\n",
       "      <td>Fully Paid</td>\n",
       "    </tr>\n",
       "  </tbody>\n",
       "</table>\n",
       "<p>80000 rows × 14 columns</p>\n",
       "</div>"
      ],
      "text/plain": [
       "      addr_state earliest_cr_line emp_length                       emp_title  \\\n",
       "0             CO         Jul-1997  10+ years                          Deputy   \n",
       "1             CA         Apr-1987  10+ years  Department of Veterans Affairs   \n",
       "2             FL         Aug-2007  10+ years                Marble polishing   \n",
       "3             IL         Sep-1980  10+ years                         printer   \n",
       "4             MD         Jul-1999  10+ years                   Southern Mgmt   \n",
       "...          ...              ...        ...                             ...   \n",
       "79995         SC         Feb-2000  10+ years            Sports Group Manager   \n",
       "79996         NH         Aug-1995  10+ years                    Web Designer   \n",
       "79997         NY         Apr-2005   < 1 year                 Program Officer   \n",
       "79998         TX         Apr-1992    3 years            Sr. Business Analyst   \n",
       "79999         NY         Jun-1999    2 years               Managing Director   \n",
       "\n",
       "      grade home_ownership application_type initial_list_status  \\\n",
       "0         E       MORTGAGE       Individual                   w   \n",
       "1         B           RENT       Individual                   w   \n",
       "2         B       MORTGAGE       Individual                   w   \n",
       "3         B       MORTGAGE       Individual                   w   \n",
       "4         F           RENT       Individual                   f   \n",
       "...     ...            ...              ...                 ...   \n",
       "79995     G       MORTGAGE       Individual                   w   \n",
       "79996     C       MORTGAGE       Individual                   w   \n",
       "79997     B            OWN       Individual                   w   \n",
       "79998     D       MORTGAGE       Individual                   w   \n",
       "79999     B       MORTGAGE       Individual                   w   \n",
       "\n",
       "                  purpose sub_grade        term                    title  \\\n",
       "0      debt_consolidation        E1   60 months       Debt consolidation   \n",
       "1      debt_consolidation        B1   36 months              Credit Loan   \n",
       "2      debt_consolidation        B5   36 months       Debt consolidation   \n",
       "3      debt_consolidation        B2   36 months       Debt consolidation   \n",
       "4      debt_consolidation        F5   60 months      Debt Connsolidation   \n",
       "...                   ...       ...         ...                      ...   \n",
       "79995  debt_consolidation        G3   60 months       Debt consolidation   \n",
       "79996  debt_consolidation        C1   36 months       Debt consolidation   \n",
       "79997  debt_consolidation        B4   36 months       Debt consolidation   \n",
       "79998         credit_card        D5   60 months  Credit card refinancing   \n",
       "79999  debt_consolidation        B4   36 months       Debt consolidation   \n",
       "\n",
       "      verification_status  loan_status  \n",
       "0         Source Verified  Charged Off  \n",
       "1                Verified   Fully Paid  \n",
       "2         Source Verified   Fully Paid  \n",
       "3         Source Verified   Fully Paid  \n",
       "4                Verified   Fully Paid  \n",
       "...                   ...          ...  \n",
       "79995            Verified  Charged Off  \n",
       "79996        Not Verified   Fully Paid  \n",
       "79997     Source Verified   Fully Paid  \n",
       "79998     Source Verified   Fully Paid  \n",
       "79999     Source Verified   Fully Paid  \n",
       "\n",
       "[80000 rows x 14 columns]"
      ]
     },
     "execution_count": 74,
     "metadata": {},
     "output_type": "execute_result"
    }
   ],
   "source": [
    "categorical_data"
   ]
  },
  {
   "cell_type": "code",
   "execution_count": null,
   "metadata": {},
   "outputs": [],
   "source": []
  },
  {
   "cell_type": "code",
   "execution_count": null,
   "metadata": {},
   "outputs": [],
   "source": []
  },
  {
   "cell_type": "code",
   "execution_count": null,
   "metadata": {},
   "outputs": [],
   "source": []
  },
  {
   "cell_type": "code",
   "execution_count": null,
   "metadata": {},
   "outputs": [],
   "source": []
  },
  {
   "cell_type": "code",
   "execution_count": 49,
   "metadata": {},
   "outputs": [
    {
     "ename": "ValueError",
     "evalue": "Cannot use mean strategy with non-numeric data:\ncould not convert string to float: 'CO'",
     "output_type": "error",
     "traceback": [
      "\u001b[0;31m---------------------------------------------------------------------------\u001b[0m",
      "\u001b[0;31mValueError\u001b[0m                                Traceback (most recent call last)",
      "\u001b[0;32m<ipython-input-49-7648e123f25d>\u001b[0m in \u001b[0;36m<module>\u001b[0;34m\u001b[0m\n\u001b[1;32m      1\u001b[0m \u001b[0mimputer\u001b[0m \u001b[0;34m=\u001b[0m \u001b[0mSimpleImputer\u001b[0m\u001b[0;34m(\u001b[0m\u001b[0mmissing_values\u001b[0m\u001b[0;34m=\u001b[0m\u001b[0mnp\u001b[0m\u001b[0;34m.\u001b[0m\u001b[0mnan\u001b[0m\u001b[0;34m,\u001b[0m \u001b[0mstrategy\u001b[0m\u001b[0;34m=\u001b[0m\u001b[0;34m'mean'\u001b[0m\u001b[0;34m)\u001b[0m\u001b[0;34m\u001b[0m\u001b[0;34m\u001b[0m\u001b[0m\n\u001b[0;32m----> 2\u001b[0;31m \u001b[0mdf\u001b[0m \u001b[0;34m=\u001b[0m \u001b[0mimputer\u001b[0m\u001b[0;34m.\u001b[0m\u001b[0mfit_transform\u001b[0m\u001b[0;34m(\u001b[0m\u001b[0mclonedata\u001b[0m\u001b[0;34m)\u001b[0m\u001b[0;34m\u001b[0m\u001b[0;34m\u001b[0m\u001b[0m\n\u001b[0m\u001b[1;32m      3\u001b[0m \u001b[0;34m\u001b[0m\u001b[0m\n\u001b[1;32m      4\u001b[0m \u001b[0mdf\u001b[0m\u001b[0;34m\u001b[0m\u001b[0;34m\u001b[0m\u001b[0m\n",
      "\u001b[0;32m/opt/anaconda3/lib/python3.8/site-packages/sklearn/base.py\u001b[0m in \u001b[0;36mfit_transform\u001b[0;34m(self, X, y, **fit_params)\u001b[0m\n\u001b[1;32m    688\u001b[0m         \u001b[0;32mif\u001b[0m \u001b[0my\u001b[0m \u001b[0;32mis\u001b[0m \u001b[0;32mNone\u001b[0m\u001b[0;34m:\u001b[0m\u001b[0;34m\u001b[0m\u001b[0;34m\u001b[0m\u001b[0m\n\u001b[1;32m    689\u001b[0m             \u001b[0;31m# fit method of arity 1 (unsupervised transformation)\u001b[0m\u001b[0;34m\u001b[0m\u001b[0;34m\u001b[0m\u001b[0;34m\u001b[0m\u001b[0m\n\u001b[0;32m--> 690\u001b[0;31m             \u001b[0;32mreturn\u001b[0m \u001b[0mself\u001b[0m\u001b[0;34m.\u001b[0m\u001b[0mfit\u001b[0m\u001b[0;34m(\u001b[0m\u001b[0mX\u001b[0m\u001b[0;34m,\u001b[0m \u001b[0;34m**\u001b[0m\u001b[0mfit_params\u001b[0m\u001b[0;34m)\u001b[0m\u001b[0;34m.\u001b[0m\u001b[0mtransform\u001b[0m\u001b[0;34m(\u001b[0m\u001b[0mX\u001b[0m\u001b[0;34m)\u001b[0m\u001b[0;34m\u001b[0m\u001b[0;34m\u001b[0m\u001b[0m\n\u001b[0m\u001b[1;32m    691\u001b[0m         \u001b[0;32melse\u001b[0m\u001b[0;34m:\u001b[0m\u001b[0;34m\u001b[0m\u001b[0;34m\u001b[0m\u001b[0m\n\u001b[1;32m    692\u001b[0m             \u001b[0;31m# fit method of arity 2 (supervised transformation)\u001b[0m\u001b[0;34m\u001b[0m\u001b[0;34m\u001b[0m\u001b[0;34m\u001b[0m\u001b[0m\n",
      "\u001b[0;32m/opt/anaconda3/lib/python3.8/site-packages/sklearn/impute/_base.py\u001b[0m in \u001b[0;36mfit\u001b[0;34m(self, X, y)\u001b[0m\n\u001b[1;32m    275\u001b[0m         \u001b[0mself\u001b[0m \u001b[0;34m:\u001b[0m \u001b[0mSimpleImputer\u001b[0m\u001b[0;34m\u001b[0m\u001b[0;34m\u001b[0m\u001b[0m\n\u001b[1;32m    276\u001b[0m         \"\"\"\n\u001b[0;32m--> 277\u001b[0;31m         \u001b[0mX\u001b[0m \u001b[0;34m=\u001b[0m \u001b[0mself\u001b[0m\u001b[0;34m.\u001b[0m\u001b[0m_validate_input\u001b[0m\u001b[0;34m(\u001b[0m\u001b[0mX\u001b[0m\u001b[0;34m,\u001b[0m \u001b[0min_fit\u001b[0m\u001b[0;34m=\u001b[0m\u001b[0;32mTrue\u001b[0m\u001b[0;34m)\u001b[0m\u001b[0;34m\u001b[0m\u001b[0;34m\u001b[0m\u001b[0m\n\u001b[0m\u001b[1;32m    278\u001b[0m         \u001b[0msuper\u001b[0m\u001b[0;34m(\u001b[0m\u001b[0;34m)\u001b[0m\u001b[0;34m.\u001b[0m\u001b[0m_fit_indicator\u001b[0m\u001b[0;34m(\u001b[0m\u001b[0mX\u001b[0m\u001b[0;34m)\u001b[0m\u001b[0;34m\u001b[0m\u001b[0;34m\u001b[0m\u001b[0m\n\u001b[1;32m    279\u001b[0m \u001b[0;34m\u001b[0m\u001b[0m\n",
      "\u001b[0;32m/opt/anaconda3/lib/python3.8/site-packages/sklearn/impute/_base.py\u001b[0m in \u001b[0;36m_validate_input\u001b[0;34m(self, X, in_fit)\u001b[0m\n\u001b[1;32m    247\u001b[0m                 new_ve = ValueError(\"Cannot use {} strategy with non-numeric \"\n\u001b[1;32m    248\u001b[0m                                     \"data:\\n{}\".format(self.strategy, ve))\n\u001b[0;32m--> 249\u001b[0;31m                 \u001b[0;32mraise\u001b[0m \u001b[0mnew_ve\u001b[0m \u001b[0;32mfrom\u001b[0m \u001b[0;32mNone\u001b[0m\u001b[0;34m\u001b[0m\u001b[0;34m\u001b[0m\u001b[0m\n\u001b[0m\u001b[1;32m    250\u001b[0m             \u001b[0;32melse\u001b[0m\u001b[0;34m:\u001b[0m\u001b[0;34m\u001b[0m\u001b[0;34m\u001b[0m\u001b[0m\n\u001b[1;32m    251\u001b[0m                 \u001b[0;32mraise\u001b[0m \u001b[0mve\u001b[0m\u001b[0;34m\u001b[0m\u001b[0;34m\u001b[0m\u001b[0m\n",
      "\u001b[0;31mValueError\u001b[0m: Cannot use mean strategy with non-numeric data:\ncould not convert string to float: 'CO'"
     ]
    }
   ],
   "source": [
    "imputer = SimpleImputer(missing_values=np.nan, strategy='mean')\n",
    "df = imputer.fit_transform(clonedata)\n",
    "\n",
    "df"
   ]
  },
  {
   "cell_type": "code",
   "execution_count": null,
   "metadata": {},
   "outputs": [],
   "source": []
  }
 ],
 "metadata": {
  "kernelspec": {
   "display_name": "Python 3",
   "language": "python",
   "name": "python3"
  },
  "language_info": {
   "codemirror_mode": {
    "name": "ipython",
    "version": 3
   },
   "file_extension": ".py",
   "mimetype": "text/x-python",
   "name": "python",
   "nbconvert_exporter": "python",
   "pygments_lexer": "ipython3",
   "version": "3.8.3"
  }
 },
 "nbformat": 4,
 "nbformat_minor": 4
}
